{
  "nbformat": 4,
  "nbformat_minor": 0,
  "metadata": {
    "colab": {
      "name": "BE42-ML-LP3.ipynb",
      "provenance": []
    },
    "kernelspec": {
      "name": "python3",
      "display_name": "Python 3"
    },
    "language_info": {
      "name": "python"
    }
  },
  "cells": [
    {
      "cell_type": "markdown",
      "metadata": {
        "id": "7dzNKL0IYgLm"
      },
      "source": [
        "# Program 1\n",
        "\n",
        "Assignment on Linear Regression:\n",
        "The following table shows the results of a recently conducted study on the correlation of the number of hours spent driving with the risk of  developing acute backache. Find the equation of the best fit line for this data.\n",
        "\n",
        "----"
      ]
    },
    {
      "cell_type": "code",
      "metadata": {
        "id": "HlANXbtdZFtb"
      },
      "source": [
        "# Dataset\n",
        "import csv\n",
        "row_list = [[\"hours_spent\", \"risk_score\"],\n",
        "            [10,95],\n",
        "            [9,80],\n",
        "            [2,10],\n",
        "            [15,50],\n",
        "            [10,45],\n",
        "            [16,98],\n",
        "            [11,38],\n",
        "            [16,93]\n",
        "            ]\n",
        "with open('hours.csv', 'w', newline='') as file:\n",
        "    writer = csv.writer(file)\n",
        "    writer.writerows(row_list)"
      ],
      "execution_count": null,
      "outputs": []
    },
    {
      "cell_type": "code",
      "metadata": {
        "id": "qljfIQJMX_lJ"
      },
      "source": [
        "#import packages\n",
        "\n",
        "import numpy as np\n",
        "import matplotlib.pyplot as plt\n",
        "import pandas as pd"
      ],
      "execution_count": null,
      "outputs": []
    },
    {
      "cell_type": "code",
      "metadata": {
        "id": "iUCXzx1iYlDM"
      },
      "source": [
        "#Read Dataset\n",
        "dataset=pd.read_csv(\"hours.csv\")\n",
        "X=dataset.iloc[:,:-1].values\n",
        "y=dataset.iloc[:,1].values"
      ],
      "execution_count": null,
      "outputs": []
    },
    {
      "cell_type": "code",
      "metadata": {
        "colab": {
          "base_uri": "https://localhost:8080/"
        },
        "id": "SpHea7NwY04p",
        "outputId": "62f96a3d-1b39-41c1-cd30-0a5446807d77"
      },
      "source": [
        "#Import Linear Regression and create object of it\n",
        "from sklearn.linear_model import LinearRegression\n",
        "regressor=LinearRegression()\n",
        "regressor.fit(X,y)\n",
        "print (\"Accuracy : \", regressor.score(X, y) * 100)"
      ],
      "execution_count": null,
      "outputs": [
        {
          "output_type": "stream",
          "text": [
            "Accuracy :  43.709481451010035\n"
          ],
          "name": "stdout"
        }
      ]
    },
    {
      "cell_type": "code",
      "metadata": {
        "colab": {
          "base_uri": "https://localhost:8080/"
        },
        "id": "yuaF1-v9Y1ui",
        "outputId": "42469774-affb-430c-d2dc-a2e3082f208b"
      },
      "source": [
        "#Predict value using regressor object\n",
        "y_pred=regressor.predict([[8]])\n",
        "print (y_pred)"
      ],
      "execution_count": null,
      "outputs": [
        {
          "output_type": "stream",
          "text": [
            "[49.28781684]\n"
          ],
          "name": "stdout"
        }
      ]
    },
    {
      "cell_type": "code",
      "metadata": {
        "colab": {
          "base_uri": "https://localhost:8080/"
        },
        "id": "WY7AoEcXY6TL",
        "outputId": "38441a1a-9937-4bcd-c767-7cef723afc1e"
      },
      "source": [
        "#Take user input\n",
        "hours=int(input('Enter the no of hours:'))\n",
        "# 10"
      ],
      "execution_count": null,
      "outputs": [
        {
          "output_type": "stream",
          "text": [
            "Enter the no of hours:10\n"
          ],
          "name": "stdout"
        }
      ]
    },
    {
      "cell_type": "code",
      "metadata": {
        "colab": {
          "base_uri": "https://localhost:8080/"
        },
        "id": "dNNy_1eAY_q_",
        "outputId": "bde72e2e-b027-482e-b467-200fee701599"
      },
      "source": [
        "#Calculate value of y\n",
        "eq=regressor.coef_*hours+regressor.intercept_\n",
        "print ('y = %f*%f+%f' %(regressor.coef_,hours,regressor.intercept_))\n",
        "print (\"Risk Score: \", eq[0])"
      ],
      "execution_count": null,
      "outputs": [
        {
          "output_type": "stream",
          "text": [
            "y = 4.587899*10.000000+12.584628\n",
            "Risk Score:  58.4636140637776\n"
          ],
          "name": "stdout"
        }
      ]
    },
    {
      "cell_type": "code",
      "metadata": {
        "colab": {
          "base_uri": "https://localhost:8080/",
          "height": 264
        },
        "id": "MWW7aegKaYzR",
        "outputId": "07b32974-5a96-4068-84fb-96bfce28f45c"
      },
      "source": [
        "plt.plot(X, y, 'o')\n",
        "plt.plot(X, regressor.predict(X));\n",
        "plt.show()"
      ],
      "execution_count": null,
      "outputs": [
        {
          "output_type": "display_data",
          "data": {
            "image/png": "[encoded data removed]",
            "text/plain": [
              "<Figure size 432x288 with 1 Axes>"
            ]
          },
          "metadata": {
            "tags": [],
            "needs_background": "light"
          }
        }
      ]
    },
    {
      "cell_type": "markdown",
      "metadata": {
        "id": "0dxb2G-9bv7j"
      },
      "source": [
        "# Program 2\n",
        "\n",
        "Assignment on Decision Tree Classifier:\n",
        "A dataset collected in a cosmetics shop showing details of customers and whether or not they responded to a special offer to buy a new lip-stick is shown in table below. Use this dataset to build a decision tree, with Buys as the target variable, to help in buying lip-sticks in the future.\n",
        "Find the root node of decision tree. According to the decision tree you have made from previous training data set, what is the decision for the test data:[ Age < 21, Income = Low, Gender = Female, Marital Status = Married]?\n",
        "\n",
        "----"
      ]
    },
    {
      "cell_type": "code",
      "metadata": {
        "id": "699uhcdicVbj"
      },
      "source": [
        "# Dataset\n",
        "import csv\n",
        "row_list = [[\"ID\",\t\"AGE\",\t\"INCOME\",\t\"GENDER\",\t\"MARITAL STATUS\",\t\"BUYS\"],\n",
        "            [1,\t'<21',\t\"HIGH\",\t\"MALE\",\t\"SINGLE\",\t\"NO\"],\n",
        "            [2,\t'<21',\t\"HIGH\",\t\"MALE\",\t\"MARRIED\",\t\"NO\"],\n",
        "            [3,\t'21-35',\t\"HIGH\",\t\"MALE\",\t\"SINGLE\",\t\"YES\"],\n",
        "            [4,\t'>35',\t\"MEDIUM\",\t\"MALE\",\t\"SINGLE\",\t\"YES\"],\n",
        "            [5,\t'>35',\t\"LOW\",\t\"FEMALE\",\t\"SINGLE\",\t\"YES\"],\n",
        "            [6,\t'>35',\t\"LOW\",\t\"FEMALE\",\t\"MARRIED\",\t\"NO\"],\n",
        "            [7,\t'21-35',\t\"LOW\",\t\"FEMALE\",\t\"MARRIED\",\t\"YES\"],\n",
        "            [8,\t'<21',\t\"MEDIUM\",\t\"MALE\",\t\"SINGLE\",\t\"NO\"],\n",
        "            [9,\t'<21',\t\"LOW\",\t\"FEMALE\",\t\"MARRIED\",\t\"YES\"],\n",
        "            [10,\t'>35',\t\"MEDIUM\",\t\"FEMALE\",\t\"SINGLE\",\t\"YES\"],\n",
        "            [11,\t'<21',\t\"MEDIUM\",\t\"FEMALE\",\t\"MARRIED\",\t\"YES\"],\n",
        "            [12,\t'21-35',\t\"MEDIUM\",\t\"MALE\",\t\"MARRIED\",\t\"YES\"],\n",
        "            [13,\t'21-35',\t\"HIGH\",\t\"FEMALE\",\t\"SINGLE\",\t\"YES\"],\n",
        "            [14,\t'>35',\t\"MEDIUM\",\t\"MALE\",\t\"MARRIED\",\t\"NO\"]\n",
        "            ]\n",
        "with open('Decisiontreedata.csv', 'w', newline='') as file:\n",
        "    writer = csv.writer(file)\n",
        "    writer.writerows(row_list)"
      ],
      "execution_count": null,
      "outputs": []
    },
    {
      "cell_type": "code",
      "metadata": {
        "id": "bnuyr-ZHoLv-"
      },
      "source": [
        "#import packages \n",
        "import numpy as np \n",
        "import pandas as pd"
      ],
      "execution_count": null,
      "outputs": []
    },
    {
      "cell_type": "code",
      "metadata": {
        "id": "2DJ0R9eXoMhL"
      },
      "source": [
        "#reading Dataset \n",
        "dataset=pd.read_csv(\"Decisiontreedata.csv\") \n",
        "X=dataset.iloc[:,:-1] \n",
        "y=dataset.iloc[:,5].values "
      ],
      "execution_count": null,
      "outputs": []
    },
    {
      "cell_type": "code",
      "metadata": {
        "id": "2YjS1gcQob0t"
      },
      "source": [
        "#Perform Label encoding \n",
        "from sklearn.preprocessing import LabelEncoder \n",
        "labelencoder_X = LabelEncoder()"
      ],
      "execution_count": null,
      "outputs": []
    },
    {
      "cell_type": "code",
      "metadata": {
        "colab": {
          "base_uri": "https://localhost:8080/",
          "height": 467
        },
        "id": "f4vlGywBoiNZ",
        "outputId": "4b3ad6cb-ed75-4dbe-8cbb-708c36cd2434"
      },
      "source": [
        "X = X.apply(LabelEncoder().fit_transform) \n",
        "X"
      ],
      "execution_count": null,
      "outputs": [
        {
          "output_type": "execute_result",
          "data": {
            "text/html": [
              "<div>\n",
              "<style scoped>\n",
              "    .dataframe tbody tr th:only-of-type {\n",
              "        vertical-align: middle;\n",
              "    }\n",
              "\n",
              "    .dataframe tbody tr th {\n",
              "        vertical-align: top;\n",
              "    }\n",
              "\n",
              "    .dataframe thead th {\n",
              "        text-align: right;\n",
              "    }\n",
              "</style>\n",
              "<table border=\"1\" class=\"dataframe\">\n",
              "  <thead>\n",
              "    <tr style=\"text-align: right;\">\n",
              "      <th></th>\n",
              "      <th>ID</th>\n",
              "      <th>AGE</th>\n",
              "      <th>INCOME</th>\n",
              "      <th>GENDER</th>\n",
              "      <th>MARITAL STATUS</th>\n",
              "    </tr>\n",
              "  </thead>\n",
              "  <tbody>\n",
              "    <tr>\n",
              "      <th>0</th>\n",
              "      <td>0</td>\n",
              "      <td>1</td>\n",
              "      <td>0</td>\n",
              "      <td>1</td>\n",
              "      <td>1</td>\n",
              "    </tr>\n",
              "    <tr>\n",
              "      <th>1</th>\n",
              "      <td>1</td>\n",
              "      <td>1</td>\n",
              "      <td>0</td>\n",
              "      <td>1</td>\n",
              "      <td>0</td>\n",
              "    </tr>\n",
              "    <tr>\n",
              "      <th>2</th>\n",
              "      <td>2</td>\n",
              "      <td>0</td>\n",
              "      <td>0</td>\n",
              "      <td>1</td>\n",
              "      <td>1</td>\n",
              "    </tr>\n",
              "    <tr>\n",
              "      <th>3</th>\n",
              "      <td>3</td>\n",
              "      <td>2</td>\n",
              "      <td>2</td>\n",
              "      <td>1</td>\n",
              "      <td>1</td>\n",
              "    </tr>\n",
              "    <tr>\n",
              "      <th>4</th>\n",
              "      <td>4</td>\n",
              "      <td>2</td>\n",
              "      <td>1</td>\n",
              "      <td>0</td>\n",
              "      <td>1</td>\n",
              "    </tr>\n",
              "    <tr>\n",
              "      <th>5</th>\n",
              "      <td>5</td>\n",
              "      <td>2</td>\n",
              "      <td>1</td>\n",
              "      <td>0</td>\n",
              "      <td>0</td>\n",
              "    </tr>\n",
              "    <tr>\n",
              "      <th>6</th>\n",
              "      <td>6</td>\n",
              "      <td>0</td>\n",
              "      <td>1</td>\n",
              "      <td>0</td>\n",
              "      <td>0</td>\n",
              "    </tr>\n",
              "    <tr>\n",
              "      <th>7</th>\n",
              "      <td>7</td>\n",
              "      <td>1</td>\n",
              "      <td>2</td>\n",
              "      <td>1</td>\n",
              "      <td>1</td>\n",
              "    </tr>\n",
              "    <tr>\n",
              "      <th>8</th>\n",
              "      <td>8</td>\n",
              "      <td>1</td>\n",
              "      <td>1</td>\n",
              "      <td>0</td>\n",
              "      <td>0</td>\n",
              "    </tr>\n",
              "    <tr>\n",
              "      <th>9</th>\n",
              "      <td>9</td>\n",
              "      <td>2</td>\n",
              "      <td>2</td>\n",
              "      <td>0</td>\n",
              "      <td>1</td>\n",
              "    </tr>\n",
              "    <tr>\n",
              "      <th>10</th>\n",
              "      <td>10</td>\n",
              "      <td>1</td>\n",
              "      <td>2</td>\n",
              "      <td>0</td>\n",
              "      <td>0</td>\n",
              "    </tr>\n",
              "    <tr>\n",
              "      <th>11</th>\n",
              "      <td>11</td>\n",
              "      <td>0</td>\n",
              "      <td>2</td>\n",
              "      <td>1</td>\n",
              "      <td>0</td>\n",
              "    </tr>\n",
              "    <tr>\n",
              "      <th>12</th>\n",
              "      <td>12</td>\n",
              "      <td>0</td>\n",
              "      <td>0</td>\n",
              "      <td>0</td>\n",
              "      <td>1</td>\n",
              "    </tr>\n",
              "    <tr>\n",
              "      <th>13</th>\n",
              "      <td>13</td>\n",
              "      <td>2</td>\n",
              "      <td>2</td>\n",
              "      <td>1</td>\n",
              "      <td>0</td>\n",
              "    </tr>\n",
              "  </tbody>\n",
              "</table>\n",
              "</div>"
            ],
            "text/plain": [
              "    ID  AGE  INCOME  GENDER  MARITAL STATUS\n",
              "0    0    1       0       1               1\n",
              "1    1    1       0       1               0\n",
              "2    2    0       0       1               1\n",
              "3    3    2       2       1               1\n",
              "4    4    2       1       0               1\n",
              "5    5    2       1       0               0\n",
              "6    6    0       1       0               0\n",
              "7    7    1       2       1               1\n",
              "8    8    1       1       0               0\n",
              "9    9    2       2       0               1\n",
              "10  10    1       2       0               0\n",
              "11  11    0       2       1               0\n",
              "12  12    0       0       0               1\n",
              "13  13    2       2       1               0"
            ]
          },
          "metadata": {
            "tags": []
          },
          "execution_count": 28
        }
      ]
    },
    {
      "cell_type": "code",
      "metadata": {
        "colab": {
          "base_uri": "https://localhost:8080/"
        },
        "id": "A1eIHG7roriN",
        "outputId": "dbd5149d-3183-460f-b9c0-fcc20a2a945c"
      },
      "source": [
        "from sklearn.tree import DecisionTreeClassifier \n",
        "regressor=DecisionTreeClassifier() \n",
        "regressor.fit(X.iloc[:,1:5],y)"
      ],
      "execution_count": null,
      "outputs": [
        {
          "output_type": "execute_result",
          "data": {
            "text/plain": [
              "DecisionTreeClassifier(ccp_alpha=0.0, class_weight=None, criterion='gini',\n",
              "                       max_depth=None, max_features=None, max_leaf_nodes=None,\n",
              "                       min_impurity_decrease=0.0, min_impurity_split=None,\n",
              "                       min_samples_leaf=1, min_samples_split=2,\n",
              "                       min_weight_fraction_leaf=0.0, presort='deprecated',\n",
              "                       random_state=None, splitter='best')"
            ]
          },
          "metadata": {
            "tags": []
          },
          "execution_count": 29
        }
      ]
    },
    {
      "cell_type": "code",
      "metadata": {
        "id": "_U9px7-Aouuu"
      },
      "source": [
        "#Predict value for the given expression \n",
        "X_in=np.array([1,1,0,0]) "
      ],
      "execution_count": null,
      "outputs": []
    },
    {
      "cell_type": "code",
      "metadata": {
        "colab": {
          "base_uri": "https://localhost:8080/"
        },
        "id": "aoMxIMtho1p3",
        "outputId": "d2d39612-3527-4f13-c2c2-149504555523"
      },
      "source": [
        "y_pred=regressor.predict([X_in]) \n",
        "print(\"Prediction:\", y_pred)"
      ],
      "execution_count": null,
      "outputs": [
        {
          "output_type": "stream",
          "text": [
            "Prediction: ['YES']\n"
          ],
          "name": "stdout"
        }
      ]
    },
    {
      "cell_type": "code",
      "metadata": {
        "colab": {
          "base_uri": "https://localhost:8080/",
          "height": 632
        },
        "id": "d5AdhmN6pCHZ",
        "outputId": "dcbeb5f7-7d0d-4559-aec2-8802c417bb33"
      },
      "source": [
        "from sklearn.externals.six import StringIO  \n",
        "from IPython.display import Image  \n",
        "from sklearn.tree import export_graphviz \n",
        "import pydotplus \n",
        "dot_data = StringIO() \n",
        "export_graphviz(regressor, out_file=dot_data, filled=True, rounded=True, special_characters=True) \n",
        "graph = pydotplus.graph_from_dot_data(dot_data.getvalue())  \n",
        "graph.write_png('tree.png')\n",
        "\n",
        "Image(filename =\"tree.png\")"
      ],
      "execution_count": null,
      "outputs": [
        {
          "output_type": "execute_result",
          "data": {
            "image/png": "[encoded data removed]",
            "text/plain": [
              "<IPython.core.display.Image object>"
            ]
          },
          "metadata": {
            "tags": []
          },
          "execution_count": 36
        }
      ]
    },
    {
      "cell_type": "markdown",
      "metadata": {
        "id": "mzZTpGf7b7px"
      },
      "source": [
        "# Program 3\n",
        "\n",
        "Assignment on k-NN Classification:\n",
        "In the following diagram let blue circles indicate positive examples and orange squares indicate negative examples. We want to use k-NN algorithm for classifying the points. If k=3, find the class of the point (6,6). Extend the same example for Distance-Weighted k-NN and Locally weighted Averaging\n",
        "\n",
        "\n",
        "----"
      ]
    },
    {
      "cell_type": "code",
      "metadata": {
        "id": "LXVl6sEibvdo"
      },
      "source": [
        "# Dataset\n",
        "import csv\n",
        "row_list = [[\"X\",\t\"Y\",\t\"class\"],\n",
        "            [4,\t2,\t\"negative\"],\n",
        "            [6,\t2,\t\"positive\"],\n",
        "            [6,\t4,\t\"negative\"],\n",
        "            [4,\t4,\t\"positive\"],\n",
        "            [2,\t4,\t\"negative\"],\n",
        "            [4,\t6,\t\"negative\"]\n",
        "            ]\n",
        "with open('knndata.csv', 'w', newline='') as file:\n",
        "    writer = csv.writer(file)\n",
        "    writer.writerows(row_list)"
      ],
      "execution_count": null,
      "outputs": []
    },
    {
      "cell_type": "code",
      "metadata": {
        "id": "49J25Q0_j2rC"
      },
      "source": [
        "#import Packages \n",
        "import numpy as np \n",
        "import pandas as pd "
      ],
      "execution_count": null,
      "outputs": []
    },
    {
      "cell_type": "code",
      "metadata": {
        "id": "kuM8Ddp9j_It"
      },
      "source": [
        "#Read Dataset \n",
        "dataset=pd.read_csv(\"knndata.csv\") \n",
        "X=dataset.iloc[:,:-1].values \n",
        "y=dataset.iloc[:,2].values "
      ],
      "execution_count": null,
      "outputs": []
    },
    {
      "cell_type": "code",
      "metadata": {
        "colab": {
          "base_uri": "https://localhost:8080/"
        },
        "id": "kc_Uh2XokGe4",
        "outputId": "6ba7f901-e720-45c3-f7f7-e80583abf438"
      },
      "source": [
        "#import KNeighborsClassifier and create object of it \n",
        "from sklearn.neighbors import KNeighborsClassifier \n",
        "classifier=KNeighborsClassifier(n_neighbors=3) \n",
        "classifier.fit(X,y)"
      ],
      "execution_count": null,
      "outputs": [
        {
          "output_type": "execute_result",
          "data": {
            "text/plain": [
              "KNeighborsClassifier(algorithm='auto', leaf_size=30, metric='minkowski',\n",
              "                     metric_params=None, n_jobs=None, n_neighbors=3, p=2,\n",
              "                     weights='uniform')"
            ]
          },
          "metadata": {
            "tags": []
          },
          "execution_count": 39
        }
      ]
    },
    {
      "cell_type": "code",
      "metadata": {
        "colab": {
          "base_uri": "https://localhost:8080/"
        },
        "id": "PegYtT1mkMEM",
        "outputId": "7bc64f39-0b9c-4a7d-cd98-d8d4d662629f"
      },
      "source": [
        "#predict class for the points(6,6) \n",
        "X_test=np.array([6,6]) \n",
        "y_pred=classifier.predict([X_test]) \n",
        "print('General KNN:', y_pred)"
      ],
      "execution_count": null,
      "outputs": [
        {
          "output_type": "stream",
          "text": [
            "General KNN: ['negative']\n"
          ],
          "name": "stdout"
        }
      ]
    },
    {
      "cell_type": "code",
      "metadata": {
        "colab": {
          "base_uri": "https://localhost:8080/"
        },
        "id": "ALA8-trnkTcv",
        "outputId": "c0c795c8-fb43-4f78-f02b-aed778e1f5b2"
      },
      "source": [
        "classifier=KNeighborsClassifier(n_neighbors=3, weights='distance') \n",
        "classifier.fit(X,y) "
      ],
      "execution_count": null,
      "outputs": [
        {
          "output_type": "execute_result",
          "data": {
            "text/plain": [
              "KNeighborsClassifier(algorithm='auto', leaf_size=30, metric='minkowski',\n",
              "                     metric_params=None, n_jobs=None, n_neighbors=3, p=2,\n",
              "                     weights='distance')"
            ]
          },
          "metadata": {
            "tags": []
          },
          "execution_count": 41
        }
      ]
    },
    {
      "cell_type": "code",
      "metadata": {
        "colab": {
          "base_uri": "https://localhost:8080/"
        },
        "id": "VR8UDPkbkcG0",
        "outputId": "46018dd5-1a82-48db-c870-c5c356b8f8ed"
      },
      "source": [
        "#predict class for the points(6,6) \n",
        "X_test=np.array([6,6]) \n",
        "y_pred=classifier.predict([X_test]) \n",
        "print('Distance Weighted KNN:', y_pred)  "
      ],
      "execution_count": null,
      "outputs": [
        {
          "output_type": "stream",
          "text": [
            "Distance Weighted KNN: ['negative']\n"
          ],
          "name": "stdout"
        }
      ]
    },
    {
      "cell_type": "markdown",
      "metadata": {
        "id": "qTTmSeuhcWUr"
      },
      "source": [
        "# Program 4\n",
        "\n",
        "Assignment on K-Means Clustering:\n",
        "We have given a collection of 8 points. P1=[0.1,0.6] P2=[0.15,0.71] P3=[0.08,0.9] P4=[0.16, 0.85] P5=[0.2,0.3] P6=[0.25,0.5] P7=[0.24,0.1] P8=[0.3,0.2]. Perform the k-mean clustering with initial centroids as m1=P1 =Cluster#1=C1 and m2=P8=cluster#2=C2. Answer the following\n",
        "1. Which cluster does P6 belongs to?\n",
        "2. What is the population of cluster around m2?\n",
        "3. What is updated value of m1 and m2?\n",
        "\n",
        "----"
      ]
    },
    {
      "cell_type": "code",
      "metadata": {
        "id": "b_rJzLDHcaq-"
      },
      "source": [
        "import numpy as np\n",
        "import matplotlib.pyplot as plt\n",
        "import pandas as pd"
      ],
      "execution_count": null,
      "outputs": []
    },
    {
      "cell_type": "code",
      "metadata": {
        "colab": {
          "base_uri": "https://localhost:8080/",
          "height": 264
        },
        "id": "6WCa0uecuKxu",
        "outputId": "f08c4784-313a-4553-e100-25e09f98e6a4"
      },
      "source": [
        "X = [[0.1,0.6],\n",
        "    [0.15,0.71],\n",
        "    [0.08,0.9],\n",
        "    [0.16, 0.85],\n",
        "    [0.2,0.3],\n",
        "    [0.25,0.5],\n",
        "    [0.24,0.1],\n",
        "    [0.3,0.2]\n",
        "  ]\n",
        "\n",
        "colmap = {1: 'r', 2: 'b'}\n",
        "R1 = np.array(X)[:,0]\n",
        "R2 = np.array(X)[:,1]\n",
        "plt.scatter(R1,R2, color='k')\n",
        "plt.show()"
      ],
      "execution_count": null,
      "outputs": [
        {
          "output_type": "display_data",
          "data": {
            "image/png": "[encoded data removed]",
            "text/plain": [
              "<Figure size 432x288 with 1 Axes>"
            ]
          },
          "metadata": {
            "tags": [],
            "needs_background": "light"
          }
        }
      ]
    },
    {
      "cell_type": "code",
      "metadata": {
        "colab": {
          "base_uri": "https://localhost:8080/"
        },
        "id": "jeC7R7ituWIH",
        "outputId": "deeb171e-0084-4010-a947-3f0ac8cdf4ba"
      },
      "source": [
        "centroids = np.array([[0.1,0.6],[0.3,0.2]])\n",
        "print('Intial Centroids :\\n',centroids)"
      ],
      "execution_count": null,
      "outputs": [
        {
          "output_type": "stream",
          "text": [
            "Intial Centroids :\n",
            " [[0.1 0.6]\n",
            " [0.3 0.2]]\n"
          ],
          "name": "stdout"
        }
      ]
    },
    {
      "cell_type": "code",
      "metadata": {
        "colab": {
          "base_uri": "https://localhost:8080/",
          "height": 264
        },
        "id": "RFH6NasEuY05",
        "outputId": "951575fe-2146-4752-b809-10f593324353"
      },
      "source": [
        "C_x=np.array([0.1,0.6])\n",
        "C_y=np.array([0.3,0.2])\n",
        "plt.scatter(C_x[0],C_y[0], color=colmap[1])\n",
        "plt.scatter(C_x[1],C_y[1], color=colmap[2])\n",
        "plt.show()"
      ],
      "execution_count": null,
      "outputs": [
        {
          "output_type": "display_data",
          "data": {
            "image/png": "[encoded data removed]",
            "text/plain": [
              "<Figure size 432x288 with 1 Axes>"
            ]
          },
          "metadata": {
            "tags": [],
            "needs_background": "light"
          }
        }
      ]
    },
    {
      "cell_type": "code",
      "metadata": {
        "colab": {
          "base_uri": "https://localhost:8080/",
          "height": 264
        },
        "id": "4GEkhgK4uar8",
        "outputId": "a100ba09-4107-43a3-d0f1-affc1ca6c6d5"
      },
      "source": [
        "plt.scatter(R1,R2, c='#050505')\n",
        "plt.scatter(C_x[0], C_y[0], marker='*', s=200, c='r')\n",
        "plt.scatter(C_x[1], C_y[1], marker='*', s=200, c='b')\n",
        "plt.show()"
      ],
      "execution_count": null,
      "outputs": [
        {
          "output_type": "display_data",
          "data": {
            "image/png": "[encoded data removed]",
            "text/plain": [
              "<Figure size 432x288 with 1 Axes>"
            ]
          },
          "metadata": {
            "tags": [],
            "needs_background": "light"
          }
        }
      ]
    },
    {
      "cell_type": "code",
      "metadata": {
        "colab": {
          "base_uri": "https://localhost:8080/"
        },
        "id": "hX8Mr40qufqF",
        "outputId": "b1c78dc9-0635-4734-a8e1-e2f1173e70f3"
      },
      "source": [
        "from sklearn.cluster import KMeans\n",
        "model = KMeans(n_clusters=2,init=centroids,n_init=1)\n",
        "model.fit(X)\n",
        "print('Labels :',model.labels_)"
      ],
      "execution_count": null,
      "outputs": [
        {
          "output_type": "stream",
          "text": [
            "Labels : [0 0 0 0 1 0 1 1]\n"
          ],
          "name": "stdout"
        }
      ]
    },
    {
      "cell_type": "code",
      "metadata": {
        "colab": {
          "base_uri": "https://localhost:8080/"
        },
        "id": "IQd8gCA3ukH_",
        "outputId": "81870768-3bd5-476e-b76e-2097c69c89c4"
      },
      "source": [
        "print('Ans 1 -> P6 belongs to cluster :',model.labels_[5])\n",
        "\n",
        "print('Ans 2 -> No. of population around cluster 2 :',np.count_nonzero(model.labels_==1))\n",
        "\n",
        "print('Ans 3 -> New Centroids:\\n',model.cluster_centers_)"
      ],
      "execution_count": null,
      "outputs": [
        {
          "output_type": "stream",
          "text": [
            "Ans 1 -> P6 belongs to cluster : 0\n",
            "Ans 2 -> No. of population around cluster 2 : 3\n",
            "Ans 3 -> New Centroids:\n",
            " [[0.148      0.712     ]\n",
            " [0.24666667 0.2       ]]\n"
          ],
          "name": "stdout"
        }
      ]
    }
  ]
}