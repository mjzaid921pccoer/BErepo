{
  "nbformat": 4,
  "nbformat_minor": 0,
  "metadata": {
    "colab": {
      "name": "BE42-Compiler_LP4.ipynb",
      "provenance": []
    },
    "kernelspec": {
      "name": "python3",
      "display_name": "Python 3"
    },
    "language_info": {
      "name": "python"
    }
  },
  "cells": [
    {
      "cell_type": "markdown",
      "metadata": {
        "id": "xx_3y1Y8AbLH"
      },
      "source": [
        "# Installing\n",
        "----"
      ]
    },
    {
      "cell_type": "code",
      "metadata": {
        "colab": {
          "base_uri": "https://localhost:8080/"
        },
        "id": "Uqsi4tKHACh3",
        "outputId": "5573f000-647e-4176-aaf5-f1096bc33053"
      },
      "source": [
        "!apt-get install flex"
      ],
      "execution_count": null,
      "outputs": [
        {
          "output_type": "stream",
          "text": [
            "Reading package lists... Done\n",
            "Building dependency tree       \n",
            "Reading state information... Done\n",
            "The following package was automatically installed and is no longer required:\n",
            "  libnvidia-common-460\n",
            "Use 'apt autoremove' to remove it.\n",
            "The following additional packages will be installed:\n",
            "  libfl-dev libfl2 libsigsegv2 m4\n",
            "Suggested packages:\n",
            "  bison flex-doc m4-doc\n",
            "The following NEW packages will be installed:\n",
            "  flex libfl-dev libfl2 libsigsegv2 m4\n",
            "0 upgraded, 5 newly installed, 0 to remove and 34 not upgraded.\n",
            "Need to get 545 kB of archives.\n",
            "After this operation, 1,511 kB of additional disk space will be used.\n",
            "Get:1 http://archive.ubuntu.com/ubuntu bionic/main amd64 libsigsegv2 amd64 2.12-1 [14.7 kB]\n",
            "Get:2 http://archive.ubuntu.com/ubuntu bionic/main amd64 m4 amd64 1.4.18-1 [197 kB]\n",
            "Get:3 http://archive.ubuntu.com/ubuntu bionic/main amd64 flex amd64 2.6.4-6 [316 kB]\n",
            "Get:4 http://archive.ubuntu.com/ubuntu bionic/main amd64 libfl2 amd64 2.6.4-6 [11.4 kB]\n",
            "Get:5 http://archive.ubuntu.com/ubuntu bionic/main amd64 libfl-dev amd64 2.6.4-6 [6,320 B]\n",
            "Fetched 545 kB in 1s (826 kB/s)\n",
            "Selecting previously unselected package libsigsegv2:amd64.\n",
            "(Reading database ... 160706 files and directories currently installed.)\n",
            "Preparing to unpack .../libsigsegv2_2.12-1_amd64.deb ...\n",
            "Unpacking libsigsegv2:amd64 (2.12-1) ...\n",
            "Selecting previously unselected package m4.\n",
            "Preparing to unpack .../archives/m4_1.4.18-1_amd64.deb ...\n",
            "Unpacking m4 (1.4.18-1) ...\n",
            "Selecting previously unselected package flex.\n",
            "Preparing to unpack .../flex_2.6.4-6_amd64.deb ...\n",
            "Unpacking flex (2.6.4-6) ...\n",
            "Selecting previously unselected package libfl2:amd64.\n",
            "Preparing to unpack .../libfl2_2.6.4-6_amd64.deb ...\n",
            "Unpacking libfl2:amd64 (2.6.4-6) ...\n",
            "Selecting previously unselected package libfl-dev:amd64.\n",
            "Preparing to unpack .../libfl-dev_2.6.4-6_amd64.deb ...\n",
            "Unpacking libfl-dev:amd64 (2.6.4-6) ...\n",
            "Setting up libsigsegv2:amd64 (2.12-1) ...\n",
            "Setting up m4 (1.4.18-1) ...\n",
            "Setting up libfl2:amd64 (2.6.4-6) ...\n",
            "Setting up flex (2.6.4-6) ...\n",
            "Setting up libfl-dev:amd64 (2.6.4-6) ...\n",
            "Processing triggers for man-db (2.8.3-2ubuntu0.1) ...\n",
            "Processing triggers for libc-bin (2.27-3ubuntu1.2) ...\n",
            "/sbin/ldconfig.real: /usr/local/lib/python3.7/dist-packages/ideep4py/lib/libmkldnn.so.0 is not a symbolic link\n",
            "\n"
          ],
          "name": "stdout"
        }
      ]
    },
    {
      "cell_type": "code",
      "metadata": {
        "colab": {
          "base_uri": "https://localhost:8080/"
        },
        "id": "i-p7D72yAVmU",
        "outputId": "4ad591bf-cf40-46e5-dce0-fdd1137547e7"
      },
      "source": [
        "!apt-get install bison"
      ],
      "execution_count": null,
      "outputs": [
        {
          "output_type": "stream",
          "text": [
            "Reading package lists... Done\n",
            "Building dependency tree       \n",
            "Reading state information... Done\n",
            "The following package was automatically installed and is no longer required:\n",
            "  libnvidia-common-460\n",
            "Use 'apt autoremove' to remove it.\n",
            "The following additional packages will be installed:\n",
            "  libbison-dev\n",
            "Suggested packages:\n",
            "  bison-doc\n",
            "The following NEW packages will be installed:\n",
            "  bison libbison-dev\n",
            "0 upgraded, 2 newly installed, 0 to remove and 34 not upgraded.\n",
            "Need to get 605 kB of archives.\n",
            "After this operation, 1,811 kB of additional disk space will be used.\n",
            "Get:1 http://archive.ubuntu.com/ubuntu bionic/main amd64 libbison-dev amd64 2:3.0.4.dfsg-1build1 [339 kB]\n",
            "Get:2 http://archive.ubuntu.com/ubuntu bionic/main amd64 bison amd64 2:3.0.4.dfsg-1build1 [266 kB]\n",
            "Fetched 605 kB in 1s (978 kB/s)\n",
            "Selecting previously unselected package libbison-dev:amd64.\n",
            "(Reading database ... 160863 files and directories currently installed.)\n",
            "Preparing to unpack .../libbison-dev_2%3a3.0.4.dfsg-1build1_amd64.deb ...\n",
            "Unpacking libbison-dev:amd64 (2:3.0.4.dfsg-1build1) ...\n",
            "Selecting previously unselected package bison.\n",
            "Preparing to unpack .../bison_2%3a3.0.4.dfsg-1build1_amd64.deb ...\n",
            "Unpacking bison (2:3.0.4.dfsg-1build1) ...\n",
            "Setting up libbison-dev:amd64 (2:3.0.4.dfsg-1build1) ...\n",
            "Setting up bison (2:3.0.4.dfsg-1build1) ...\n",
            "update-alternatives: using /usr/bin/bison.yacc to provide /usr/bin/yacc (yacc) in auto mode\n",
            "Processing triggers for man-db (2.8.3-2ubuntu0.1) ...\n"
          ],
          "name": "stdout"
        }
      ]
    },
    {
      "cell_type": "markdown",
      "metadata": {
        "id": "MMfuKdRoDq5B"
      },
      "source": [
        "# Sample lex\n",
        "----"
      ]
    },
    {
      "cell_type": "code",
      "metadata": {
        "colab": {
          "base_uri": "https://localhost:8080/"
        },
        "id": "kVO2lNUlGFnm",
        "outputId": "f03ee0e2-0084-4e0a-b469-db62233c75cb"
      },
      "source": [
        "!wget http://tug.ctan.org/graphics/sketch/y.tab.h\n",
        "!wget http://tug.ctan.org/graphics/sketch/y.tab.c\n",
        "# !wget http://tug.ctan.org/graphics/sketch/lex.yy.c"
      ],
      "execution_count": null,
      "outputs": [
        {
          "output_type": "stream",
          "text": [
            "--2021-05-25 14:55:12--  http://tug.ctan.org/graphics/sketch/y.tab.h\n",
            "Resolving tug.ctan.org (tug.ctan.org)... 155.101.98.136\n",
            "Connecting to tug.ctan.org (tug.ctan.org)|155.101.98.136|:80... connected.\n",
            "HTTP request sent, awaiting response... 200 OK\n",
            "Length: 3565 (3.5K) [text/plain]\n",
            "Saving to: ‘y.tab.h’\n",
            "\n",
            "y.tab.h             100%[===================>]   3.48K  --.-KB/s    in 0s      \n",
            "\n",
            "2021-05-25 14:55:13 (462 MB/s) - ‘y.tab.h’ saved [3565/3565]\n",
            "\n",
            "--2021-05-25 14:55:13--  http://tug.ctan.org/graphics/sketch/y.tab.c\n",
            "Resolving tug.ctan.org (tug.ctan.org)... 155.101.98.136\n",
            "Connecting to tug.ctan.org (tug.ctan.org)|155.101.98.136|:80... connected.\n",
            "HTTP request sent, awaiting response... 200 OK\n",
            "Length: 74631 (73K) [text/plain]\n",
            "Saving to: ‘y.tab.c’\n",
            "\n",
            "y.tab.c             100%[===================>]  72.88K  --.-KB/s    in 0.1s    \n",
            "\n",
            "2021-05-25 14:55:13 (575 KB/s) - ‘y.tab.c’ saved [74631/74631]\n",
            "\n"
          ],
          "name": "stdout"
        }
      ]
    },
    {
      "cell_type": "code",
      "metadata": {
        "colab": {
          "base_uri": "https://localhost:8080/"
        },
        "id": "R-LynHfMDt29",
        "outputId": "9c15cd8b-1067-48f2-96bd-cede290a419e"
      },
      "source": [
        "%%writefile sample.l\n",
        "%{\n",
        "int COMMENT=0;\n",
        "%}\n",
        "identifier [a-zA-Z][a-zA-Z0-9]*\n",
        "%%\n",
        "#.* {printf(\"\\n%s is a preprocessor directive\",yytext);}\n",
        "int |\n",
        "float |\n",
        "char |\n",
        "double |\n",
        "while |\n",
        "for |\n",
        "struct |\n",
        "typedef |\n",
        "do |\n",
        "if |\n",
        "break |\n",
        "continue |\n",
        "void |\n",
        "switch |\n",
        "return |\n",
        "else |\n",
        "goto {printf(\"\\n\\t%s is a keyword\",yytext);}\n",
        "\"/*\" {COMMENT=1;}{printf(\"\\n\\t %s is a COMMENT\",yytext);}\n",
        "{identifier}\\( {if(!COMMENT)printf(\"\\nFUNCTION \\n\\t%s\",yytext);}\n",
        "\\{  {if(!COMMENT)printf(\"\\n BLOCK BEGINS\");}\n",
        "\\}  {if(!COMMENT)printf(\"BLOCK ENDS \");}\n",
        "{identifier}(\\[[0-9]*\\])? {if(!COMMENT) printf(\"\\n %s IDENTIFIER\",yytext);}\n",
        "\\\".*\\\" {if(!COMMENT)printf(\"\\n\\t %s is a STRING\",yytext);}\n",
        "[0-9]+ {if(!COMMENT) printf(\"\\n %s is a NUMBER \",yytext);}\n",
        "\\)(\\:)? {if(!COMMENT)printf(\"\\n\\t\");ECHO;printf(\"\\n\");}\n",
        "\\( ECHO;\n",
        "= {if(!COMMENT)printf(\"\\n\\t %s is an ASSIGNMENT OPERATOR\",yytext);}\n",
        "\\<= |\n",
        "\\>= |\n",
        "\\< |\n",
        "== |\n",
        "\\> {if(!COMMENT) printf(\"\\n\\t%s is a RELATIONAL OPERATOR\",yytext);}\n",
        "%%\n",
        "int main(int argc, char **argv)\n",
        "{\n",
        "FILE *file;\n",
        "file=fopen(\"sample.c\",\"r\");\n",
        "if(!file)\n",
        "{\n",
        "printf(\"could not open the file\");\n",
        "exit(0);\n",
        "}\n",
        "yyin=file;\n",
        "yylex();\n",
        "printf(\"\\n\");\n",
        "return(0);\n",
        "}\n",
        "int yywrap()\n",
        "{\n",
        "return(1);\n",
        "}\n"
      ],
      "execution_count": null,
      "outputs": [
        {
          "output_type": "stream",
          "text": [
            "Writing sample.l\n"
          ],
          "name": "stdout"
        }
      ]
    },
    {
      "cell_type": "code",
      "metadata": {
        "colab": {
          "base_uri": "https://localhost:8080/"
        },
        "id": "YTrMJF1eD05K",
        "outputId": "77e62ff1-7b73-4ed7-ad41-2aff193155b0"
      },
      "source": [
        "%%writefile sample.c\n",
        "#include<stdio.h>\n",
        "void main()\n",
        "{\n",
        "int a,b,c;\n",
        "a=1;\n",
        "b=2;\n",
        "c=a+b;\n",
        "printf(\"Sum:%d\",c);\n",
        "}"
      ],
      "execution_count": null,
      "outputs": [
        {
          "output_type": "stream",
          "text": [
            "Writing sample.c\n"
          ],
          "name": "stdout"
        }
      ]
    },
    {
      "cell_type": "code",
      "metadata": {
        "colab": {
          "base_uri": "https://localhost:8080/"
        },
        "id": "nkFBwQzUEEQX",
        "outputId": "fd0371bb-9260-4b1e-dd1a-df4ce6305f89"
      },
      "source": [
        "%%shell\n",
        "lex sample.l\n",
        "gcc -o sample lex.yy.c\n",
        "./sample"
      ],
      "execution_count": null,
      "outputs": [
        {
          "output_type": "stream",
          "text": [
            "\n",
            "#include<stdio.h> is a preprocessor directive\n",
            "\n",
            "\tvoid is a keyword \n",
            "FUNCTION \n",
            "\tmain(\n",
            "\t)\n",
            "\n",
            "\n",
            " BLOCK BEGINS\n",
            "\n",
            "\tint is a keyword \n",
            " a IDENTIFIER,\n",
            " b IDENTIFIER,\n",
            " c IDENTIFIER;\n",
            "\n",
            " a IDENTIFIER\n",
            "\t = is an ASSIGNMENT OPERATOR\n",
            " 1 is a NUMBER ;\n",
            "\n",
            " b IDENTIFIER\n",
            "\t = is an ASSIGNMENT OPERATOR\n",
            " 2 is a NUMBER ;\n",
            "\n",
            " c IDENTIFIER\n",
            "\t = is an ASSIGNMENT OPERATOR\n",
            " a IDENTIFIER+\n",
            " b IDENTIFIER;\n",
            "\n",
            "FUNCTION \n",
            "\tprintf(\n",
            "\t \"Sum:%d\" is a STRING,\n",
            " c IDENTIFIER\n",
            "\t)\n",
            ";\n",
            "BLOCK ENDS \n"
          ],
          "name": "stdout"
        },
        {
          "output_type": "execute_result",
          "data": {
            "text/plain": [
              ""
            ]
          },
          "metadata": {
            "tags": []
          },
          "execution_count": 6
        }
      ]
    },
    {
      "cell_type": "markdown",
      "metadata": {
        "id": "rxcirpp3BoGV"
      },
      "source": [
        "# Practical 1\n",
        "Implement a Lexical Analyzer using LEX for a subset of C. Cross check your output with Stanford LEX.\n",
        "----"
      ]
    },
    {
      "cell_type": "code",
      "metadata": {
        "colab": {
          "base_uri": "https://localhost:8080/"
        },
        "id": "PHAPZmjVAjD_",
        "outputId": "d238066a-7f78-4ef5-fcfd-7b8d2943644b"
      },
      "source": [
        "%%writefile practical1.l\n",
        "%{\n",
        "\n",
        "FILE* yyin;\n",
        "%}\n",
        "DIGIT [0-9]\n",
        "NUMBER {DIGIT}+\n",
        "REAL {DIGIT}*[.]{NUMBER}\n",
        "TEXT [A-Za-z]\n",
        "KEYWORDS \"auto\"|\"static\"\n",
        "DATATYPE \"int\"|\"float\"|\"double\"|\"long\"|\"void\"|\"char\"\n",
        "CONDITIONAL \"if\"|\"else\"|\"else if\"|\"switch\"|\"case\"\n",
        "ITERATIVE \"for\"|\"while\"|\"do\"\n",
        "PREPROCESSOR \"#include\"[^\\n]*\";\"\n",
        "SC \";\"\n",
        "IDENTIFIER {TEXT}({DIGIT}|{TEXT}|\"_\")*\n",
        "NONIDENTIFIER {DIGIT}({TEXT}|{DIGIT}|\"_\")*\n",
        "ARITH_OP \"+\"|\"-\"|\"/\"|\"%\"|\"*\";\n",
        "LOGICAL_OP \"&&\"|\"||\"|\"!\"|\"!=\"\n",
        "REL_OP \"<\"|\">\"|\"<=\"|\">=\"|\"==\"\n",
        "UNARY \"++\"|\"--\"\n",
        "\n",
        "\n",
        "%%\n",
        "[ \\n\\t]+ ;\n",
        "\"#include<stdio.h>\" {printf(\"%s\\t==> PREPROCESSOR\\n\",yytext);}\n",
        "{CONDITIONAL} { printf(\"%s\\t==> CONDITIONAL\\n\",yytext);}\n",
        "{ITERATIVE} {printf(\"%s\\t==> ITERATIVE CONSTRUCT\\n\",yytext);}\n",
        "\n",
        "{DATATYPE}  {printf(\"%s\\t==> DATATYPE\\n\",yytext);}\n",
        "{KEYWORDS} {printf(\"%s\\t==> KEYWORDS\\n\",yytext);}\n",
        "{IDENTIFIER} {printf(\"%s\\t==> IDENTIFIER\\n\",yytext);}\n",
        "{REAL} {printf(\"%s\\t==> REAL CONSTANT\\n\",yytext);}\n",
        "{NUMBER} {printf(\"%s\\t==> CONSTAINT INTEGER\\n\",yytext);}\n",
        "{NONIDENTIFIER} {printf(\"%s\\t==> NONIDENTIFIER\\n\",yytext);}\n",
        "{SC} {printf(\"%s\\t==> DELIMITER\\n\",yytext);}\n",
        "{UNARY} {printf(\"%s\\t==> UNARY OP\\n\",yytext);}\n",
        "{ARITH_OP} {printf(\"%s\\t==> ARITHMETIC OPERATOR\\n\",yytext);}\n",
        "{LOGICAL_OP} {printf(\"%s\\t==> LOGICAL OP\\n\",yytext);}\n",
        "{REL_OP} {printf(\"%s\\t==> RELATIONAL OP\\n\",yytext);}\n",
        "\"=\" {printf(\"%s\\t==> ASSIGNMENT OP\\n\",yytext);}\n",
        "\"{\"  {printf(\"%s\\t==> BLOCK BEGIN\\n\",yytext);}\n",
        "\"}\"  {printf(\"%s\\t==> BLOCK END\\n\",yytext);}\n",
        "\"(\"  {printf(\"%s\\t==> PARANTHESIS BEGIN\\n\",yytext);}\n",
        "\")\"  {printf(\"%s\\t==> PARENTHESIS END\\n\",yytext);}\n",
        ". ;\n",
        "\n",
        "\n",
        "%%\n",
        "int yywrap()\n",
        "{\n",
        "\treturn 1;\n",
        "}\n",
        "\n",
        "int main(int argc,char* argv[])\n",
        "{\n",
        "\tyyin=fopen(argv[1],\"r\");\n",
        "\tyylex();\n",
        "\tfclose(yyin);\n",
        "}"
      ],
      "execution_count": null,
      "outputs": [
        {
          "output_type": "stream",
          "text": [
            "Writing practical1.l\n"
          ],
          "name": "stdout"
        }
      ]
    },
    {
      "cell_type": "code",
      "metadata": {
        "colab": {
          "base_uri": "https://localhost:8080/"
        },
        "id": "NftAOfY2BOii",
        "outputId": "7a8d500a-2e71-4af0-de2b-9c4e625ab41d"
      },
      "source": [
        "%%writefile input.c \n",
        "#include<stdio.h>\n",
        "void main()\n",
        "{\n",
        "int a,b;\n",
        "char bilateral;\n",
        "a=3;\n",
        "c=a+d;\n",
        "}"
      ],
      "execution_count": null,
      "outputs": [
        {
          "output_type": "stream",
          "text": [
            "Writing input.c\n"
          ],
          "name": "stdout"
        }
      ]
    },
    {
      "cell_type": "code",
      "metadata": {
        "colab": {
          "base_uri": "https://localhost:8080/"
        },
        "id": "8Ff_KNYcBV0N",
        "outputId": "729750e7-a8a6-4029-d349-f8d0485831e4"
      },
      "source": [
        "%%shell\n",
        "lex practical1.l\n",
        "gcc -o practical1 lex.yy.c\n",
        "./practical1 input.c"
      ],
      "execution_count": null,
      "outputs": [
        {
          "output_type": "stream",
          "text": [
            "#include<stdio.h>\t==> PREPROCESSOR\n",
            "void\t==> DATATYPE\n",
            "main\t==> IDENTIFIER\n",
            "(\t==> PARANTHESIS BEGIN\n",
            ")\t==> PARENTHESIS END\n",
            "{\t==> BLOCK BEGIN\n",
            "int\t==> DATATYPE\n",
            "a\t==> IDENTIFIER\n",
            "b\t==> IDENTIFIER\n",
            ";\t==> DELIMITER\n",
            "char\t==> DATATYPE\n",
            "bilateral\t==> IDENTIFIER\n",
            ";\t==> DELIMITER\n",
            "a\t==> IDENTIFIER\n",
            "=\t==> ASSIGNMENT OP\n",
            "3\t==> CONSTAINT INTEGER\n",
            ";\t==> DELIMITER\n",
            "c\t==> IDENTIFIER\n",
            "=\t==> ASSIGNMENT OP\n",
            "a\t==> IDENTIFIER\n",
            "+\t==> ARITHMETIC OPERATOR\n",
            "d\t==> IDENTIFIER\n",
            ";\t==> DELIMITER\n",
            "}\t==> BLOCK END\n"
          ],
          "name": "stdout"
        },
        {
          "output_type": "execute_result",
          "data": {
            "text/plain": [
              ""
            ]
          },
          "metadata": {
            "tags": []
          },
          "execution_count": 9
        }
      ]
    },
    {
      "cell_type": "markdown",
      "metadata": {
        "id": "g6ccN58pIsf7"
      },
      "source": [
        "# Practical 2\n",
        "Implement a parser for an expression grammar using YACC and LEX for the subset of C. Cross check your output with Stanford LEX and YACC.\n",
        "----"
      ]
    },
    {
      "cell_type": "code",
      "metadata": {
        "colab": {
          "base_uri": "https://localhost:8080/"
        },
        "id": "eE21iLc5U85M",
        "outputId": "dc79496a-d56a-4466-890f-c03ff1a4f919"
      },
      "source": [
        "%%writefile practical2.y\n",
        "%{\n",
        "#include<stdio.h>\n",
        "int flag=0;\n",
        "%}\n",
        "\n",
        "%token NUMBER\n",
        "%left '+' '-'\n",
        "%left '*' '/' '%'\n",
        "%left '(' ')'\n",
        "\n",
        "%%\n",
        "\n",
        "ArithmeticExpression: E{\n",
        "\n",
        "         printf(\"\\nResult=%d\\n\",$$);\n",
        "         return 0;\n",
        "        };\n",
        "\n",
        "E:E'+'E {$$=$1+$3;}\n",
        " |E'-'E {$$=$1-$3;}\n",
        " |E'*'E {$$=$1*$3;}\n",
        " |E'/'E {$$=$1/$3;}\n",
        " |E'%'E {$$=$1%$3;}\n",
        " |'('E')' {$$=$2;}\n",
        " | NUMBER {$$=$1;}\n",
        ";\n",
        "\n",
        "%%\n",
        "int main()\n",
        "{\n",
        "  yyparse();\n",
        "  if(flag==0)\n",
        "   printf(\"\\nEntered arithmetic expression is Valid\\n\\n\");\n",
        "  return 0;\n",
        "}\n",
        "\n",
        "int yyerror()\n",
        "{\n",
        "   printf(\"\\nEntered arithmetic expression is Invalid\\n\\n\");\n",
        "   flag=1;\n",
        "   return 0;\n",
        "}\n"
      ],
      "execution_count": null,
      "outputs": [
        {
          "output_type": "stream",
          "text": [
            "Writing practical2.y\n"
          ],
          "name": "stdout"
        }
      ]
    },
    {
      "cell_type": "code",
      "metadata": {
        "colab": {
          "base_uri": "https://localhost:8080/"
        },
        "id": "rl9slicMUpQn",
        "outputId": "0f68da5e-a260-44ed-f8b4-7d5404b0012b"
      },
      "source": [
        "%%writefile practical2.l\n",
        "%{\n",
        "#include<stdio.h>\n",
        "#include \"y.tab.h\"\n",
        "//extern int yylval;\n",
        "%}\n",
        "\n",
        "%%\n",
        "\n",
        "[0-9]+ { yylval=atoi(yytext); return NUMBER; }\n",
        "\n",
        "[\\n] return 0;\n",
        ". return yytext[0];\n",
        "\n",
        "%%\n",
        "\n",
        "int yywrap()\n",
        "{\n",
        "return 1;\n",
        "}"
      ],
      "execution_count": null,
      "outputs": [
        {
          "output_type": "stream",
          "text": [
            "Writing practical2.l\n"
          ],
          "name": "stdout"
        }
      ]
    },
    {
      "cell_type": "code",
      "metadata": {
        "colab": {
          "base_uri": "https://localhost:8080/"
        },
        "id": "MFQSSHYhVHS3",
        "outputId": "f3753f21-5bf3-47b8-b3a2-8155b8e75dee"
      },
      "source": [
        "%%shell\n",
        "lex practical2.l\n",
        "yacc -d practical2.y\n",
        "gcc -o practical2 y.tab.c lex.yy.c -ll -ly -lm\n",
        "./practical2\n",
        "#5+55"
      ],
      "execution_count": null,
      "outputs": [
        {
          "output_type": "stream",
          "text": [
            "\u001b[01m\u001b[Ky.tab.c:\u001b[m\u001b[K In function ‘\u001b[01m\u001b[Kyyparse\u001b[m\u001b[K’:\n",
            "\u001b[01m\u001b[Ky.tab.c:1119:16:\u001b[m\u001b[K \u001b[01;35m\u001b[Kwarning: \u001b[m\u001b[Kimplicit declaration of function ‘\u001b[01m\u001b[Kyylex\u001b[m\u001b[K’ [\u001b[01;35m\u001b[K-Wimplicit-function-declaration\u001b[m\u001b[K]\n",
            "       yychar = \u001b[01;35m\u001b[Kyylex\u001b[m\u001b[K ();\n",
            "                \u001b[01;35m\u001b[K^~~~~\u001b[m\u001b[K\n",
            "\u001b[01m\u001b[Ky.tab.c:1300:7:\u001b[m\u001b[K \u001b[01;35m\u001b[Kwarning: \u001b[m\u001b[Kimplicit declaration of function ‘\u001b[01m\u001b[Kyyerror\u001b[m\u001b[K’; did you mean ‘\u001b[01m\u001b[Kyyerrok\u001b[m\u001b[K’? [\u001b[01;35m\u001b[K-Wimplicit-function-declaration\u001b[m\u001b[K]\n",
            "       \u001b[01;35m\u001b[Kyyerror\u001b[m\u001b[K (YY_(\"syntax error\"));\n",
            "       \u001b[01;35m\u001b[K^~~~~~~\u001b[m\u001b[K\n",
            "       \u001b[32m\u001b[Kyyerrok\u001b[m\u001b[K\n",
            "5+55\n",
            "\n",
            "Result=60\n",
            "\n",
            "Entered arithmetic expression is Valid\n",
            "\n"
          ],
          "name": "stdout"
        },
        {
          "output_type": "execute_result",
          "data": {
            "text/plain": [
              ""
            ]
          },
          "metadata": {
            "tags": []
          },
          "execution_count": 13
        }
      ]
    },
    {
      "cell_type": "code",
      "metadata": {
        "colab": {
          "base_uri": "https://localhost:8080/"
        },
        "id": "JDhtrCYzVuUd",
        "outputId": "5ce093b6-310e-4331-f51e-ecde642780bd"
      },
      "source": [
        "%%shell\n",
        "./practical2\n",
        "#-5+5++8"
      ],
      "execution_count": null,
      "outputs": [
        {
          "output_type": "stream",
          "text": [
            "5++5++8**-\n",
            "\n",
            "Entered arithmetic expression is Invalid\n",
            "\n"
          ],
          "name": "stdout"
        },
        {
          "output_type": "execute_result",
          "data": {
            "text/plain": [
              ""
            ]
          },
          "metadata": {
            "tags": []
          },
          "execution_count": 14
        }
      ]
    },
    {
      "cell_type": "markdown",
      "metadata": {
        "id": "mWLjlVngOU_j"
      },
      "source": [
        "# Practical 3\n",
        "Generate and populate appropriate Symbol Table.\n",
        "----"
      ]
    },
    {
      "cell_type": "code",
      "metadata": {
        "colab": {
          "base_uri": "https://localhost:8080/"
        },
        "id": "GyqnPkx3OX3L",
        "outputId": "0ab50440-7d1b-4bbf-ed2a-dbf356576f80"
      },
      "source": [
        "%%writefile SYMTAB.java\n",
        "import java.io.*;\n",
        "\n",
        "public class SYMTAB{\n",
        "    \n",
        "  public static void main(String ar[])throws IOException{\n",
        "      \n",
        "    BufferedReader br=new BufferedReader(new InputStreamReader(System.in));\n",
        "\n",
        "    int i;\n",
        "\n",
        "    String a[][]={{\"\",\"START\",\"101\",\"\"},\n",
        "    {\"\",\"MOVER\",\"BREG\",\"ONE\"},\n",
        "    {\"AGAIN\",\"MULT\",\"BREG\",\"TERM\"},\n",
        "    {\"\",\"MOVER\",\"CREG\",\"TERM\"},\n",
        "    {\"\",\"ADD\",\"CREG\",\"N\"},\n",
        "    {\"\",\"MOVEM\",\"CREG\",\"TERM\"},\n",
        "    {\"N\",\"DS\",\"2\",\"\"},\n",
        "    {\"RESULT\",\"DS\",\"2\",\"\"},\n",
        "    {\"ONE\",\"DC\",\"1\",\"\"},\n",
        "    {\"TERM\",\"DS\",\"1\",\"\"},\n",
        "    {\"\",\"END\",\"\",\"\"}};\n",
        "\n",
        "    int lc=Integer.parseInt(a[0][2]);\n",
        "\n",
        "    String st[][]=new String[5][2];\n",
        "\n",
        "    int cnt=0,l;\n",
        "\n",
        "    for (i=1;i<11;i++){\n",
        "      if (a[i][0]!=\"\"){\n",
        "        st[cnt][0]=a[i][0];\n",
        "        st[cnt][1]=Integer.toString(lc);\n",
        "        cnt++;\n",
        "          if(a[i][1]==\"DS\"){\n",
        "            int d=Integer.parseInt(a[i][2]);\n",
        "            lc=lc+d;\n",
        "          }else{\n",
        "            lc++;\n",
        "          }\n",
        "      }else{\n",
        "        lc++;\n",
        "      }\n",
        "    }\n",
        "  System.out.print(\"***SYMBOL TABLE****\\n\");\n",
        "\n",
        "  System.out.println(\"_____________________\");\n",
        "\n",
        "  for(i=0;i<5;i++){\n",
        "    for(cnt=0;cnt<2;cnt++){\n",
        "      System.out.print(st[i][cnt]+\"\\t\");\n",
        "    }\n",
        "    System.out.println();\n",
        "  }\n",
        "\n",
        "  }\n",
        "}"
      ],
      "execution_count": null,
      "outputs": [
        {
          "output_type": "stream",
          "text": [
            "Writing SYMTAB.java\n"
          ],
          "name": "stdout"
        }
      ]
    },
    {
      "cell_type": "code",
      "metadata": {
        "colab": {
          "base_uri": "https://localhost:8080/"
        },
        "id": "WhrJ4a2iTvyU",
        "outputId": "a78a7261-4b6a-4a39-b4ca-9c930b1daecd"
      },
      "source": [
        "%%shell\n",
        "javac SYMTAB.java\n",
        "java SYMTAB"
      ],
      "execution_count": null,
      "outputs": [
        {
          "output_type": "stream",
          "text": [
            "***SYMBOL TABLE****\n",
            "_____________________\n",
            "AGAIN\t102\t\n",
            "N\t106\t\n",
            "RESULT\t108\t\n",
            "ONE\t110\t\n",
            "TERM\t111\t\n"
          ],
          "name": "stdout"
        },
        {
          "output_type": "execute_result",
          "data": {
            "text/plain": [
              ""
            ]
          },
          "metadata": {
            "tags": []
          },
          "execution_count": 16
        }
      ]
    },
    {
      "cell_type": "markdown",
      "metadata": {
        "id": "THClt4T2Y1-y"
      },
      "source": [
        "# Practical 4\n",
        "Implementation of Semantic Analysis Operations (like type checking, verification of function parameters, variable declarations and coercions) possibly using an Attributed Translation Grammar.\n",
        "----"
      ]
    },
    {
      "cell_type": "code",
      "metadata": {
        "colab": {
          "base_uri": "https://localhost:8080/"
        },
        "id": "qEgqlkKYT3fj",
        "outputId": "07ba1f4f-da31-4f07-b5bb-a6e0247eba33"
      },
      "source": [
        "%%writefile practical4.l\n",
        "%{\n",
        "#include<stdio.h>\n",
        "void yyerror(char *);\n",
        "#include \"y.tab.h\"\n",
        "%}\n",
        "\n",
        "%%\n",
        "void|int|float|char return BUILTIN;\n",
        ", return COMMA;\n",
        "; return SC;\n",
        "\"\\n\" return 0;\n",
        "\")\" return RP;\n",
        "\"(\" return LP;\n",
        "[a-zA-Z][a-zA-Z0-9]* return ID;\n",
        "%%\n",
        "\n",
        "int yywrap(void) {\n",
        "return 1;\n",
        "}"
      ],
      "execution_count": null,
      "outputs": [
        {
          "output_type": "stream",
          "text": [
            "Writing practical4.l\n"
          ],
          "name": "stdout"
        }
      ]
    },
    {
      "cell_type": "code",
      "metadata": {
        "colab": {
          "base_uri": "https://localhost:8080/"
        },
        "id": "3ukSCmoVaIy4",
        "outputId": "1c41f2a3-8796-41fe-f113-c42b0b688399"
      },
      "source": [
        "%%writefile practical4.y\n",
        "%{\n",
        "#include<stdio.h>\n",
        "int yylex(void);\n",
        "void yyerror(char *);\n",
        "int flag=0;\n",
        "%}\n",
        "\n",
        "%token COMMA ID BUILTIN SC RP LP\n",
        "\n",
        "%%\n",
        "var:BUILTIN EXP SC {flag=1;}\n",
        ";\n",
        "EXP:EXP COMMA ID| ID |ID LP BUILTIN ID RP {flag =1;}\n",
        ";\n",
        "%%\n",
        "\n",
        "\n",
        "int main()\n",
        "{ \n",
        "\n",
        "yyparse(); \n",
        "if(flag==1)\n",
        "{\n",
        "printf(\"valid Declaration\\n\");\n",
        "}\n",
        "else\n",
        "{ printf(\"Invalid Declaration\\n\");\n",
        "}\n",
        "return 0;\n",
        "}\n",
        "\n",
        "\n",
        "void yyerror(char *s) \n",
        "{\n",
        "printf(\" \");\n",
        "}"
      ],
      "execution_count": null,
      "outputs": [
        {
          "output_type": "stream",
          "text": [
            "Writing practical4.y\n"
          ],
          "name": "stdout"
        }
      ]
    },
    {
      "cell_type": "code",
      "metadata": {
        "colab": {
          "base_uri": "https://localhost:8080/"
        },
        "id": "sXnrF9DDaW0_",
        "outputId": "abf67ba8-346b-465c-c983-5b13f62c9020"
      },
      "source": [
        "%%shell\n",
        "lex practical4.l\n",
        "yacc -d practical4.y\n",
        "gcc -o practical4 y.tab.c lex.yy.c -ll -ly -lm\n",
        "./practical4\n",
        "#int a;"
      ],
      "execution_count": null,
      "outputs": [
        {
          "output_type": "stream",
          "text": [
            "int a;\n",
            " valid Declaration\n"
          ],
          "name": "stdout"
        },
        {
          "output_type": "execute_result",
          "data": {
            "text/plain": [
              ""
            ]
          },
          "metadata": {
            "tags": []
          },
          "execution_count": 20
        }
      ]
    },
    {
      "cell_type": "code",
      "metadata": {
        "colab": {
          "base_uri": "https://localhost:8080/"
        },
        "id": "QOT1Z766B3iQ",
        "outputId": "b7bf7b07-2632-474f-bb71-3339951523a1"
      },
      "source": [
        "%%shell\n",
        "./practical4\n",
        "#int ;"
      ],
      "execution_count": null,
      "outputs": [
        {
          "output_type": "stream",
          "text": [
            "int ;\n",
            "  Invalid Declaration\n"
          ],
          "name": "stdout"
        },
        {
          "output_type": "execute_result",
          "data": {
            "text/plain": [
              ""
            ]
          },
          "metadata": {
            "tags": []
          },
          "execution_count": 21
        }
      ]
    },
    {
      "cell_type": "markdown",
      "metadata": {
        "id": "-1M_Qxyob9U1"
      },
      "source": [
        "# Practical 5\n",
        "Implement the front end of a compiler that generates the three address code for a simple language\n",
        "----"
      ]
    },
    {
      "cell_type": "code",
      "metadata": {
        "colab": {
          "base_uri": "https://localhost:8080/"
        },
        "id": "g1iZjm8ebVna",
        "outputId": "e6cdd4ef-d397-4466-daa1-5a314bf589b1"
      },
      "source": [
        "%%writefile practical5.l\n",
        "ALPHA [A-Za-z]\n",
        "DIGIT [0-9]\n",
        "%{\n",
        " #include\"y.tab.h\"\n",
        "%}\n",
        "\n",
        "%%\n",
        "{ALPHA}({ALPHA}|{DIGIT})* return ID;\n",
        "{DIGIT}+ {yylval=atoi(yytext);return NUM;}\n",
        "[\\n\\t] yyterminate();\n",
        ". return yytext[0];\n",
        "%%\n",
        "int yywrap()\n",
        "{\n",
        "return 1;\n",
        "}\n",
        "\n",
        "/*\n",
        "\n",
        "(base) dell@dell-Inspiron-15-3567:~/BEALL2/Compiler/Compiler/Assignment5$ ./a.out\n",
        "enter the expression:a=b+c*d\n",
        "t0=c * d \n",
        "t1=b + t0 \n",
        "a=t1\n",
        "(base) dell@dell-Inspiron-15-3567:~/BEALL2/Compiler/Compiler/Assignment5$ \n",
        "\n",
        "*/"
      ],
      "execution_count": null,
      "outputs": [
        {
          "output_type": "stream",
          "text": [
            "Writing practical5.l\n"
          ],
          "name": "stdout"
        }
      ]
    },
    {
      "cell_type": "code",
      "metadata": {
        "colab": {
          "base_uri": "https://localhost:8080/"
        },
        "id": "6NwKRvzbe3bH",
        "outputId": "bf3bd492-9292-4e3f-a505-d3c51cd55a99"
      },
      "source": [
        "%%writefile practical5.y\n",
        "%{\n",
        "#include<string.h>\n",
        "#include<stdio.h>\n",
        "#include<ctype.h>\n",
        "%}\n",
        "\n",
        "%token ID NUM\n",
        "%right '='\n",
        "%left '+' '-'\n",
        "%left '*' '/'\n",
        "%left UMINUS\n",
        "\n",
        "%%\n",
        "S:ID{push();} '='{push();} E{codegen_assign();}\n",
        ";\n",
        "E:E '+'{push();} T{codegen();}\n",
        "|E '-'{push();} T{codegen();}\n",
        "|T\n",
        ";\n",
        "T:T '*'{push();} F{codegen();}\n",
        "|T '/'{push();} F{codegen();}\n",
        "|F\n",
        ";\n",
        "F: '(' E ')'\n",
        "|'-'{push();} F{codegen_umin();} %prec UMINUS\n",
        "|ID{push();}\n",
        "|NUM{push();}\n",
        ";\n",
        "%%\n",
        "#include\"lex.yy.c\"\n",
        "char st[100][10];\n",
        "int top=0;\n",
        "char i_[2]=\"0\";\n",
        "char temp[2]=\"t\";\n",
        "\n",
        "int main()\n",
        "{\n",
        "printf(\"enter the expression:\");\n",
        "yyparse();\n",
        "return 0;\n",
        "}\n",
        "push()\n",
        "{\n",
        "strcpy(st[++top],yytext);\n",
        "}\n",
        "int codegen()\n",
        "{\n",
        "strcpy(temp,\"t\");\n",
        "strcat(temp,i_);\n",
        "printf(\"%s=%s %s %s \\n\",temp,st[top-2],st[top-1],st[top]);\n",
        "top-=2;\n",
        "strcpy(st[top],temp);\n",
        "i_[0]++;\n",
        "return 0;\n",
        "}\n",
        "\n",
        "int codegen_umin()\n",
        "{\n",
        "strcpy(temp,\"t\");\n",
        "strcat(temp,i_);\n",
        "printf(\"%s=-%s\\n\",temp,st[top]);\n",
        "top--;\n",
        "strcpy(st[top],temp);\n",
        "i_[0]++;\n",
        "return 0;\n",
        "}\n",
        "int codegen_assign()\n",
        "{\n",
        "printf(\"%s=%s\\n\",st[top-2],st[top]);\n",
        "top-=2;\n",
        "return 0;\n",
        "}\n",
        "\n",
        "int yyerror(char *s)\n",
        "{\n",
        "printf(\"%s\\n\",s);\n",
        "return 0;\n",
        "}"
      ],
      "execution_count": null,
      "outputs": [
        {
          "output_type": "stream",
          "text": [
            "Writing practical5.y\n"
          ],
          "name": "stdout"
        }
      ]
    },
    {
      "cell_type": "code",
      "metadata": {
        "colab": {
          "base_uri": "https://localhost:8080/"
        },
        "id": "-G2-ldazfCFz",
        "outputId": "1d0c36c2-835c-4f11-a2d3-833c67cadc33"
      },
      "source": [
        "%%shell\n",
        "# lex practical5.l\n",
        "# yacc -d practical5.y\n",
        "# gcc lex.yy.c y.tab.c"
      ],
      "execution_count": null,
      "outputs": [
        {
          "output_type": "execute_result",
          "data": {
            "text/plain": [
              ""
            ]
          },
          "metadata": {
            "tags": []
          },
          "execution_count": 25
        }
      ]
    },
    {
      "cell_type": "markdown",
      "metadata": {
        "id": "thU-qLFXkyLq"
      },
      "source": [
        "----"
      ]
    },
    {
      "cell_type": "code",
      "metadata": {
        "colab": {
          "base_uri": "https://localhost:8080/"
        },
        "id": "W_aPw2EjfY-E",
        "outputId": "1c34bd7f-7e09-44f2-921f-affb0d80b22e"
      },
      "source": [
        "%%writefile practical_5.l\n",
        "%{\n",
        " #include<stdio.h>\n",
        " #include\"y.tab.h\"\n",
        " char ch='a';\n",
        "\n",
        "%}\n",
        "%%\n",
        "[0-9]+ {yylval.dval=yytext[0]; return NUM;} /*this would store value of integer\n",
        " in yyval;nd return token integer to yacc*/\n",
        "\\n {return 0;}\n",
        ". {return yytext[0];}\n",
        "%%\n",
        "char intgencode(char ch1,char first,char op,char second)\n",
        "{\n",
        " printf(\"\\n%c = %c %c %c\\n\",ch,first,op,second);\n",
        " return ch++;\n",
        "}\n",
        "void yyerror(char* str)\n",
        "{\n",
        " printf(\"\\n%s\",str);\n",
        "}"
      ],
      "execution_count": null,
      "outputs": [
        {
          "output_type": "stream",
          "text": [
            "Writing practical_5.l\n"
          ],
          "name": "stdout"
        }
      ]
    },
    {
      "cell_type": "code",
      "metadata": {
        "colab": {
          "base_uri": "https://localhost:8080/"
        },
        "id": "N-lQPcNQlR0q",
        "outputId": "92696525-2311-4f3f-af53-61956aa5db82"
      },
      "source": [
        "%%writefile practical_5.yacc\n",
        "%{\n",
        "#include<stdio.h>\n",
        "void yyerror(char*);\n",
        "int yylex();\n",
        "int yywrap();\n",
        "%}\n",
        "%union\n",
        "{\n",
        "char dval; /*to define possible symbol types,is to allow\n",
        " storing different kind of objects into node emitted by lex*/\n",
        "}\n",
        "%token <dval> NUM\n",
        "%type <dval> E\n",
        "%left '+' '-'\n",
        "%left '*' '/'\n",
        "%%\n",
        "statement : E {printf(\"\\n t= %c\\n This is Three Address Code ...\\n\",$1);}\n",
        "E : E '+' E {$$=intgencode($$,$1,'+',$3);}\n",
        " | E '-' E {$$=intgencode($$,$1,'-',$3);}\n",
        " | E '*' E {$$=intgencode($$,$1,'*',$3);}\n",
        " | E '/' E {$$=intgencode($$,$1,'/',$3);}\n",
        " | '(' E ')' {$$=$2;}\n",
        " | NUM {$$=$1;}\n",
        " ;\n",
        "%%\n",
        "int main()\n",
        "{\n",
        " yyparse();\n",
        " return 0;\n",
        "}\n",
        "int yywrap(){\n",
        "return 1;\n",
        "}"
      ],
      "execution_count": null,
      "outputs": [
        {
          "output_type": "stream",
          "text": [
            "Writing practical_5.yacc\n"
          ],
          "name": "stdout"
        }
      ]
    },
    {
      "cell_type": "code",
      "metadata": {
        "colab": {
          "base_uri": "https://localhost:8080/"
        },
        "id": "hyzSrKajlgbz",
        "outputId": "b6c53872-f3ed-4235-eee6-b32bc72dd3aa"
      },
      "source": [
        "%%shell\n",
        "# lex practical_5.l\n",
        "# yacc -d practical_5.yacc\n",
        "# gcc -o practical_5 lex.yy.c y.tab.c  -ll -ly -lm\n",
        "# ./practical_5\n"
      ],
      "execution_count": null,
      "outputs": [
        {
          "output_type": "execute_result",
          "data": {
            "text/plain": [
              ""
            ]
          },
          "metadata": {
            "tags": []
          },
          "execution_count": 28
        }
      ]
    },
    {
      "cell_type": "code",
      "metadata": {
        "colab": {
          "base_uri": "https://localhost:8080/"
        },
        "id": "QMOG1aeUlssk",
        "outputId": "9bcbd614-cf27-465f-f767-1db75e868559"
      },
      "source": [
        "%%writefile ThreeAddressCode.java\n",
        "/*\n",
        "\tProgram to implement Three Address Code in Java\n",
        "\n",
        "*/\n",
        "import java.io.*;\n",
        "\n",
        "class ThreeAddressCode\n",
        "{\n",
        "\tprivate static final char[][] precedence = {\n",
        "\t\t{'/', '1'},\n",
        "\t\t{'*', '1'},\n",
        "\t\t{'+', '2'},\n",
        "\t\t{'-', '2'}\n",
        "\t};\n",
        "\t\n",
        "\tprivate static int precedenceOf(String t)\n",
        "\t{\n",
        "\t\tchar token = t.charAt(0);\n",
        "\t\tfor (int i=0; i < precedence.length; i++)\n",
        "\t\t{\n",
        "\t\t\tif (token == precedence[i][0])\n",
        "\t\t\t{\n",
        "\t\t\t\treturn Integer.parseInt(precedence[i][1]+\"\");\n",
        "\t\t\t}\n",
        "\t\t}\n",
        "\t\treturn -1;\n",
        "\t}\n",
        "\t\n",
        "\tpublic static void main(String[] args) throws Exception\n",
        "\t{\n",
        "\t\tint i, j, opc=0;\n",
        "\t\tchar token;\n",
        "\t\tboolean processed[];\n",
        "\t\tString[][] operators = new String[10][2];\n",
        "\t\tString expr=\"\", temp;\n",
        "\t\tBufferedReader in = new BufferedReader(new InputStreamReader(System.in));\n",
        "\t\tSystem.out.print(\"\\nEnter an expression: \");\n",
        "\t\texpr = in.readLine();\n",
        "\t\tprocessed = new boolean[expr.length()];\n",
        "\t\tfor (i=0; i < processed.length; i++)\n",
        "\t\t{\n",
        "\t\t\tprocessed[i] = false;\n",
        "\t\t}\n",
        "\t\tfor (i=0; i < expr.length(); i++)\n",
        "\t\t{\n",
        "\t\t\ttoken = expr.charAt(i);\n",
        "\t\t\tfor (j=0; j < precedence.length; j++)\n",
        "\t\t\t{\n",
        "\t\t\t\tif (token==precedence[j][0])\n",
        "\t\t\t\t{\n",
        "\t\t\t\t\toperators[opc][0] = token+\"\";\n",
        "\t\t\t\t\toperators[opc][1] = i+\"\";\n",
        "\t\t\t\t\topc++;\n",
        "\t\t\t\t\tbreak;\n",
        "\t\t\t\t}\n",
        "\t\t\t}\n",
        "\t\t}\n",
        "\t\tSystem.out.println(\"\\nOperators:\\nOperator\\tLocation\");\n",
        "\t\tfor (i=0; i < opc; i++)\n",
        "\t\t{\n",
        "\t\t\tSystem.out.println(operators[i][0] + \"\\t\\t\" + operators[i][1]);\n",
        "\t\t}\n",
        "\t\t//sort\n",
        "\t\tfor (i=opc-1; i >= 0; i--)\n",
        "\t\t{\n",
        "\t\t\tfor (j=0; j < i; j++)\n",
        "\t\t\t{\n",
        "\t\t\t\tif (precedenceOf(operators[j][0]) > precedenceOf(operators[j+1][0]))\n",
        "\t\t\t\t{\n",
        "\t\t\t\t\ttemp = operators[j][0];\n",
        "\t\t\t\t\toperators[j][0] = operators[j+1][0];\n",
        "\t\t\t\t\toperators[j+1][0] = temp;\n",
        "\t\t\t\t\ttemp = operators[j][1];\n",
        "\t\t\t\t\toperators[j][1] = operators[j+1][1];\n",
        "\t\t\t\t\toperators[j+1][1] = temp;\n",
        "\t\t\t\t}\t\t\t\t\n",
        "\t\t\t}\n",
        "\t\t}\n",
        "\t\tSystem.out.println(\"\\nOperators sorted in their precedence:\\nOperator\\tLocation\");\n",
        "\t\tfor (i=0; i < opc; i++)\n",
        "\t\t{\n",
        "\t\t\tSystem.out.println(operators[i][0] + \"\\t\\t\" + operators[i][1]);\n",
        "\t\t}\n",
        "\t\tSystem.out.println();\n",
        "\t\tfor (i=0; i < opc; i++)\n",
        "\t\t{\n",
        "\t\t\tj = Integer.parseInt(operators[i][1]+\"\");\n",
        "\t\t\tString op1=\"\", op2=\"\";\n",
        "\t\t\tif (processed[j-1]==true)\n",
        "\t\t\t{\n",
        "\t\t\t\tif (precedenceOf(operators[i-1][0]) == precedenceOf(operators[i][0]))\n",
        "\t\t\t\t{\n",
        "\t\t\t\t\top1 = \"t\"+i;\n",
        "\t\t\t\t}\n",
        "\t\t\t\telse\n",
        "\t\t\t\t{\n",
        "\t\t\t\t\tfor (int x=0; x < opc; x++)\n",
        "\t\t\t\t\t{\n",
        "\t\t\t\t\t\tif ((j-2) == Integer.parseInt(operators[x][1]))\n",
        "\t\t\t\t\t\t{\n",
        "\t\t\t\t\t\t\top1 = \"t\"+(x+1)+\"\";\n",
        "\t\t\t\t\t\t}\n",
        "\t\t\t\t\t}\n",
        "\t\t\t\t}\n",
        "\t\t\t}\n",
        "\t\t\telse\n",
        "\t\t\t{\n",
        "\t\t\t\top1 = expr.charAt(j-1)+\"\";\n",
        "\t\t\t}\n",
        "\t\t\tif (processed[j+1]==true)\n",
        "\t\t\t{\n",
        "\t\t\t\tfor (int x=0; x < opc; x++)\n",
        "\t\t\t\t{\n",
        "\t\t\t\t\tif ((j+2) == Integer.parseInt(operators[x][1]))\n",
        "\t\t\t\t\t{\n",
        "\t\t\t\t\t\top2 = \"t\"+(x+1)+\"\";\n",
        "\t\t\t\t\t}\n",
        "\t\t\t\t}\n",
        "\t\t\t}\n",
        "\t\t\telse\n",
        "\t\t\t{\n",
        "\t\t\t\top2 = expr.charAt(j+1)+\"\";\n",
        "\t\t\t}\n",
        "\t\t\tSystem.out.println(\"t\"+(i+1)+\" = \"+op1+operators[i][0]+op2);\n",
        "\t\t\tprocessed[j] = processed[j-1] = processed[j+1] = true;\n",
        "\t\t}\n",
        "\t}\n",
        "}"
      ],
      "execution_count": null,
      "outputs": [
        {
          "output_type": "stream",
          "text": [
            "Writing ThreeAddressCode.java\n"
          ],
          "name": "stdout"
        }
      ]
    },
    {
      "cell_type": "code",
      "metadata": {
        "colab": {
          "base_uri": "https://localhost:8080/"
        },
        "id": "UQu5_mE2n0op",
        "outputId": "d77b4993-63d8-4662-ccce-38b4c5dc759a"
      },
      "source": [
        "%%shell \n",
        "javac ThreeAddressCode.java\n",
        "java ThreeAddressCode\n",
        "# a*b/c+d-e*f"
      ],
      "execution_count": null,
      "outputs": [
        {
          "output_type": "stream",
          "text": [
            "\n",
            "Enter an expression: a*b/c+d-e*f\n",
            "\n",
            "Operators:\n",
            "Operator\tLocation\n",
            "*\t\t1\n",
            "/\t\t3\n",
            "+\t\t5\n",
            "-\t\t7\n",
            "*\t\t9\n",
            "\n",
            "Operators sorted in their precedence:\n",
            "Operator\tLocation\n",
            "*\t\t1\n",
            "/\t\t3\n",
            "*\t\t9\n",
            "+\t\t5\n",
            "-\t\t7\n",
            "\n",
            "t1 = a*b\n",
            "t2 = t1/c\n",
            "t3 = e*f\n",
            "t4 = t2+d\n",
            "t5 = t4-t3\n"
          ],
          "name": "stdout"
        },
        {
          "output_type": "execute_result",
          "data": {
            "text/plain": [
              ""
            ]
          },
          "metadata": {
            "tags": []
          },
          "execution_count": 30
        }
      ]
    },
    {
      "cell_type": "markdown",
      "metadata": {
        "id": "ShcCmSSqoM1h"
      },
      "source": [
        "# Practical 6\n",
        "A Register Allocation algorithm that translates the given code into ne with a fixed number of registers.\n",
        "----"
      ]
    },
    {
      "cell_type": "code",
      "metadata": {
        "colab": {
          "base_uri": "https://localhost:8080/"
        },
        "id": "_yFwa5Z8yRu-",
        "outputId": "b028f6d5-cd0c-48a8-ee7e-a0b978ac10aa"
      },
      "source": [
        "%%writefile input.c\n",
        "t1=c*d\n",
        "t2=b+t1\n",
        "t3=e /f\n",
        "t4=t2-t3\n",
        "a=t4"
      ],
      "execution_count": null,
      "outputs": [
        {
          "output_type": "stream",
          "text": [
            "Overwriting input.c\n"
          ],
          "name": "stdout"
        }
      ]
    },
    {
      "cell_type": "code",
      "metadata": {
        "colab": {
          "base_uri": "https://localhost:8080/"
        },
        "id": "UjE8h3Kan7px",
        "outputId": "853dded8-a06e-425b-9056-6aa2b358ff49"
      },
      "source": [
        "%%writefile practical6.l\n",
        "%{\n",
        "#include <stdio.h>\n",
        "#include \"y.tab.h\"\n",
        "%}\n",
        "%%\n",
        "[a-z][a-zA-Z0-9]*|[0-9]+ { strcpy(yylval.vname,yytext); return NAME; }\n",
        "[ |\\t] ;\n",
        ".|\\n { return yytext[0]; }\n",
        "%%"
      ],
      "execution_count": null,
      "outputs": [
        {
          "output_type": "stream",
          "text": [
            "Writing practical6.l\n"
          ],
          "name": "stdout"
        }
      ]
    },
    {
      "cell_type": "code",
      "metadata": {
        "colab": {
          "base_uri": "https://localhost:8080/"
        },
        "id": "Ju7H97ncxwk6",
        "outputId": "4d636059-9135-4380-b781-48838487e73c"
      },
      "source": [
        "%%writefile practical6.y\n",
        "%{\n",
        "\t#include<stdio.h>\n",
        "\t#include<ctype.h>\n",
        "\t#include<string.h>\n",
        "\tFILE *fpOut;\n",
        "\tint yylex();\n",
        "\tint yyerror();\n",
        "\tint fcloseall();\n",
        "%}\n",
        "%union\n",
        "{\n",
        "\n",
        "\tchar vname[10];\n",
        "\tint val;\n",
        "\n",
        "}\n",
        "%left '+' '-'\n",
        "%left '*' '/'\n",
        "%token <vname> NAME\n",
        "%type <vname> expression\n",
        "%%\n",
        "input : line '\\n' input\n",
        "\t\t| '\\n' input\n",
        "\t\t| ;\n",
        "line : NAME '=' expression { fprintf(fpOut,\"MOV %s, AX\\n\",$1); }\n",
        ";\n",
        "expression: NAME '+' NAME\n",
        "\t{\n",
        "\tfprintf(fpOut,\"MOV AX, %s\\n\",$1);\n",
        "\tfprintf(fpOut,\"ADD AX, %s\\n\",$3);\n",
        "\t}\n",
        "\t| NAME '-' NAME\n",
        "\t{\n",
        "\tfprintf(fpOut,\"MOV AX, %s\\n\",$1);\n",
        "\tfprintf(fpOut,\"SUB AX, %s\\n\",$3);\n",
        "\t}\n",
        "\t| NAME '*' NAME\n",
        "\t{\n",
        "\tfprintf(fpOut,\"MOV AX, %s\\n\",$1);\n",
        "\tfprintf(fpOut,\"MUL AX, %s\\n\",$3);\n",
        "\t}\n",
        "\t| NAME '/' NAME\n",
        "\t{\n",
        "\tfprintf(fpOut,\"MOV AX, %s\\n\",$1);\n",
        "\tfprintf(fpOut,\"DIV AX, %s\\n\",$3);\n",
        "\t}| NAME\n",
        "\t{\n",
        "\tfprintf(fpOut,\"MOV AX, %s\\n\",$1);\n",
        "\tstrcpy($$, $1);\n",
        "\t}\n",
        ";\n",
        "%%\n",
        "FILE *yyin;\n",
        "int main()\n",
        "{\n",
        "\tFILE *fpInput;\n",
        "\tfpInput = fopen(\"input.c\",\"r\");\n",
        "\tif(fpInput=='\\0')\n",
        "\t{\n",
        "\tprintf(\"file read error\");\n",
        "\t//exit(0);\n",
        "\t}\n",
        "\tfpOut = fopen(\"out.c\",\"w\");\n",
        "\tif(fpOut=='\\0')\n",
        "\t{\n",
        "\tprintf(\"file creation error\");\n",
        "\t//exit(0);\n",
        "\t}\n",
        "\tyyin = fpInput;\n",
        "\tyyparse();\n",
        "\tfcloseall();\n",
        "}\n",
        "int yyerror(char *msg)\n",
        "{\n",
        "\tprintf(\"%s\",msg);\n",
        "}\n",
        "/* OUTPUT-\n",
        "(base) dell@dell-Inspiron-15-3567:~/BEALL2/Compiler/Compiler/Assignment6$ lex assign6.l\n",
        "(base) dell@dell-Inspiron-15-3567:~/BEALL2/Compiler/Compiler/Assignment6$ yacc -d assign6.y\n",
        "(base) dell@dell-Inspiron-15-3567:~/BEALL2/Compiler/Compiler/Assignment6$ gcc y.tab.c lex.yy.c -ll\n",
        "(base) dell@dell-Inspiron-15-3567:~/BEALL2/Compiler/Compiler/Assignment6$ ./a.out\n",
        "NAME token is t1 \n",
        "token is = \n",
        "NAME token is c \n",
        "token is * \n",
        "NAME token is d \n",
        "token is \n",
        " \n",
        "NAME token is t2 \n",
        "token is = \n",
        "NAME token is b \n",
        "token is + \n",
        "NAME token is t1 \n",
        "token is \n",
        " \n",
        "NAME token is t3 \n",
        "token is = \n",
        "NAME token is e \n",
        "token is / \n",
        "NAME token is f \n",
        "token is \n",
        " \n",
        "NAME token is t4 \n",
        "token is = \n",
        "NAME token is t2 \n",
        "token is + \n",
        "NAME token is t3 \n",
        "token is \n",
        " \n",
        "NAME token is a \n",
        "token is = \n",
        "NAME token is t4 \n",
        "token is \n",
        " \n",
        "(base) dell@dell-Inspiron-15-3567:~/BEALL2/Compiler/Compiler/Assignment6$ \n",
        "*/\n"
      ],
      "execution_count": null,
      "outputs": [
        {
          "output_type": "stream",
          "text": [
            "Writing practical6.y\n"
          ],
          "name": "stdout"
        }
      ]
    },
    {
      "cell_type": "code",
      "metadata": {
        "colab": {
          "base_uri": "https://localhost:8080/"
        },
        "id": "_Ym6ckO7yuwV",
        "outputId": "45e420e0-0520-401d-9137-e88938a8f6fa"
      },
      "source": [
        "%%shell\n",
        "lex practical6.l\n",
        "yacc -d practical6.y\n",
        "gcc y.tab.c lex.yy.c -ll\n",
        "# ./a.out"
      ],
      "execution_count": null,
      "outputs": [
        {
          "output_type": "stream",
          "text": [
            "\u001b[01m\u001b[Kpractical6.y:\u001b[m\u001b[K In function ‘\u001b[01m\u001b[Kmain\u001b[m\u001b[K’:\n",
            "\u001b[01m\u001b[Kpractical6.y:58:12:\u001b[m\u001b[K \u001b[01;35m\u001b[Kwarning: \u001b[m\u001b[Kcomparison between pointer and zero character constant [\u001b[01;35m\u001b[K-Wpointer-compare\u001b[m\u001b[K]\n",
            "  if(fpInput\u001b[01;35m\u001b[K==\u001b[m\u001b[K'\\0')\n",
            "            \u001b[01;35m\u001b[K^~\u001b[m\u001b[K\n",
            "\u001b[01m\u001b[Kpractical6.y:58:5:\u001b[m\u001b[K \u001b[01;36m\u001b[Knote: \u001b[m\u001b[Kdid you mean to dereference the pointer?\n",
            "  if(\u001b[01;36m\u001b[Kf\u001b[m\u001b[KpInput=='\\0')\n",
            "     \u001b[01;36m\u001b[K^\u001b[m\u001b[K\n",
            "\u001b[01m\u001b[Kpractical6.y:64:10:\u001b[m\u001b[K \u001b[01;35m\u001b[Kwarning: \u001b[m\u001b[Kcomparison between pointer and zero character constant [\u001b[01;35m\u001b[K-Wpointer-compare\u001b[m\u001b[K]\n",
            "  if(fpOut\u001b[01;35m\u001b[K==\u001b[m\u001b[K'\\0')\n",
            "          \u001b[01;35m\u001b[K^~\u001b[m\u001b[K\n",
            "\u001b[01m\u001b[Kpractical6.y:64:5:\u001b[m\u001b[K \u001b[01;36m\u001b[Knote: \u001b[m\u001b[Kdid you mean to dereference the pointer?\n",
            "  if(\u001b[01;36m\u001b[Kf\u001b[m\u001b[KpOut=='\\0')\n",
            "     \u001b[01;36m\u001b[K^\u001b[m\u001b[K\n"
          ],
          "name": "stdout"
        },
        {
          "output_type": "execute_result",
          "data": {
            "text/plain": [
              ""
            ]
          },
          "metadata": {
            "tags": []
          },
          "execution_count": 34
        }
      ]
    },
    {
      "cell_type": "markdown",
      "metadata": {
        "id": "KsSvRNywocJf"
      },
      "source": [
        "# Practical 7\n",
        "\n",
        "Implementation of Instruction Scheduling Algorithm. \n",
        "----"
      ]
    },
    {
      "cell_type": "code",
      "metadata": {
        "colab": {
          "base_uri": "https://localhost:8080/"
        },
        "id": "Ykbzkaupppjm",
        "outputId": "dcf7ce5e-5210-4cb8-aa5c-b7b3ba02f6a9"
      },
      "source": [
        "%%writefile FCFS.java\n",
        "import java.util.Scanner;\n",
        "\n",
        "public class FCFS {\n",
        "  int Count=0;\n",
        "  int[][] processData;\n",
        "  Scanner scan = new Scanner(System.in);\n",
        "\n",
        "  public void scheduleFCFS(){\n",
        "    processData[0][2] = 0;\n",
        "    processData[0][3] = processData[0][1];\n",
        "    for(int i=1;i<Count;i++){\n",
        "      processData[i][2] = processData[i-1][3];\n",
        "      processData[i][3] = processData[i][1]+processData[i][2];\n",
        "    }\n",
        "  }\n",
        "\n",
        "  public void setValue(){\n",
        "    System.out.print(\"Enter Number Of processes : \");\n",
        "    Count = scan.nextInt();\n",
        "    processData = new int[Count][4];\n",
        "    for(int i=0;i<Count;i++){\n",
        "      System.out.print(\"Processes[\"+i+\"] :-> \");\n",
        "      processData[i][0] = i;\n",
        "      processData[i][1] = scan.nextInt();\n",
        "    }\n",
        "  }\n",
        "  public void DisplayValue(){\n",
        "    System.out.println(\"------------------------------------------------------------------------\");\n",
        "    System.out.println(\"Process Number || Brust Time || WatingTime || Turn Around Time\");\n",
        "    System.out.println(\"------------------------------------------------------------------------\");\n",
        "    for(int i=0;i<Count;i++){\n",
        "      System.out.println(\"Processes[\"+processData[i][0]+\"]\\t||\\t\"+processData[i][1]+\"\\t||\\t\"+processData[i][2]+\"\\t||\\t\"+processData[i][3]);\n",
        "    }\n",
        "    System.out.println(\"------------------------------------------------------------------------\");\n",
        "  }\n",
        "\n",
        "  public static void main(String a[]){\n",
        "    FCFS fs = new FCFS();\n",
        "    fs.setValue();\n",
        "    System.out.println(\"\\n\\n***********First Come First Server :(FCFS) :***********\\n\");\n",
        "    System.out.println(\"\\n\\nBefore Scheduling\\n\");\n",
        "    fs.DisplayValue();\n",
        "    fs.scheduleFCFS();\n",
        "    System.out.println(\"\\n\\nAfter Scheduling\\n\");\n",
        "    fs.DisplayValue();\n",
        "  }\n",
        "}"
      ],
      "execution_count": null,
      "outputs": [
        {
          "output_type": "stream",
          "text": [
            "Writing FCFS.java\n"
          ],
          "name": "stdout"
        }
      ]
    },
    {
      "cell_type": "code",
      "metadata": {
        "colab": {
          "base_uri": "https://localhost:8080/"
        },
        "id": "iayIw-mJ93AS",
        "outputId": "7a6de4c6-74d4-412a-c2ac-bb78c14e1fe2"
      },
      "source": [
        "%%shell\n",
        "javac FCFS.java\n",
        "java FCFS\n",
        "# 7\n",
        "\n",
        "# 1\n",
        "# 9\n",
        "# 5\n",
        "# 3\n",
        "# 2\n",
        "# 2\n",
        "# 7"
      ],
      "execution_count": null,
      "outputs": [
        {
          "output_type": "stream",
          "text": [
            "Enter Number Of processes : 7\n",
            "Processes[0] :-> 1\n",
            "Processes[1] :-> 9\n",
            "Processes[2] :-> 5\n",
            "Processes[3] :-> 3\n",
            "Processes[4] :-> 2\n",
            "Processes[5] :-> 2\n",
            "Processes[6] :-> 7\n",
            "\n",
            "\n",
            "***********First Come First Server :(FCFS) :***********\n",
            "\n",
            "\n",
            "\n",
            "Before Scheduling\n",
            "\n",
            "------------------------------------------------------------------------\n",
            "Process Number || Brust Time || WatingTime || Turn Around Time\n",
            "------------------------------------------------------------------------\n",
            "Processes[0]\t||\t1\t||\t0\t||\t0\n",
            "Processes[1]\t||\t9\t||\t0\t||\t0\n",
            "Processes[2]\t||\t5\t||\t0\t||\t0\n",
            "Processes[3]\t||\t3\t||\t0\t||\t0\n",
            "Processes[4]\t||\t2\t||\t0\t||\t0\n",
            "Processes[5]\t||\t2\t||\t0\t||\t0\n",
            "Processes[6]\t||\t7\t||\t0\t||\t0\n",
            "------------------------------------------------------------------------\n",
            "\n",
            "\n",
            "After Scheduling\n",
            "\n",
            "------------------------------------------------------------------------\n",
            "Process Number || Brust Time || WatingTime || Turn Around Time\n",
            "------------------------------------------------------------------------\n",
            "Processes[0]\t||\t1\t||\t0\t||\t1\n",
            "Processes[1]\t||\t9\t||\t1\t||\t10\n",
            "Processes[2]\t||\t5\t||\t10\t||\t15\n",
            "Processes[3]\t||\t3\t||\t15\t||\t18\n",
            "Processes[4]\t||\t2\t||\t18\t||\t20\n",
            "Processes[5]\t||\t2\t||\t20\t||\t22\n",
            "Processes[6]\t||\t7\t||\t22\t||\t29\n",
            "------------------------------------------------------------------------\n"
          ],
          "name": "stdout"
        },
        {
          "output_type": "execute_result",
          "data": {
            "text/plain": [
              ""
            ]
          },
          "metadata": {
            "tags": []
          },
          "execution_count": 36
        }
      ]
    },
    {
      "cell_type": "code",
      "metadata": {
        "colab": {
          "base_uri": "https://localhost:8080/"
        },
        "id": "gJohnNX07e-8",
        "outputId": "1c26b4a2-a7e1-4e1b-99c8-b1fe88d37568"
      },
      "source": [
        "%%writefile RoundRobin.java\n",
        "import java.util.Scanner;\n",
        "public class RoundRobin {\n",
        "  int Count=0;\n",
        "  int[][] processData;\n",
        "\n",
        "  int[] CCycle; // Complete Cycle\n",
        "  int[] PCycle; // Partial Cycle\n",
        "  int[] TCycle; // Total Cycle\n",
        "\n",
        "  String[] Queue;\n",
        "  boolean[] Status;\n",
        "  int[] startQue;\n",
        "  int[] endQue;\n",
        "\n",
        "  int RTT = 0;\n",
        "  Scanner scan = new Scanner(System.in);\n",
        "\n",
        "  public void scheduleRR(){\n",
        "    int TotalProcess = CCycle.length;\n",
        "\n",
        "    for(int i = 0,j=0;i < Queue.length || j<Queue.length;i++){\n",
        "        \n",
        "      int ProNo = i % TotalProcess;\n",
        "      if(CCycle[ProNo] != 0){\n",
        "        Queue[j] = \"process[\"+ProNo+\"]\";\n",
        "        if(j==0)\n",
        "        startQue[j] = 0;\n",
        "        else\n",
        "        startQue[j] = endQue[j-1] + 1;\n",
        "        if(!Status[ProNo]){\n",
        "          processData[ProNo][2] = startQue[j];\n",
        "          Status[ProNo] = true;\n",
        "        }\n",
        "        endQue[j] = startQue[j]+RTT-1;\n",
        "        j++;\n",
        "        CCycle[ProNo] = CCycle[ProNo] - 1;\n",
        "      }else{\n",
        "        if(Status[ProNo]){\n",
        "          Queue[j] = \"process[\"+ProNo+\"]\";\n",
        "          if(j==0)\n",
        "          startQue[j] = 0;\n",
        "          else\n",
        "          startQue[j] = endQue[j-1] + 1;\n",
        "          endQue[j] = startQue[j]+PCycle[ProNo]-1;\n",
        "          processData[ProNo][3] = endQue[j];\n",
        "          PCycle[ProNo]=0;\n",
        "          j++;\n",
        "          Status[ProNo]= false;\n",
        "        }\n",
        "      }\n",
        "    }\n",
        "\n",
        "    System.out.println(\"Queue : start : End : Interval : \");\n",
        "\n",
        "    for (int i = 0; i < Queue.length ; i++){\n",
        "      int temp = (endQue[i]-startQue[i]+1);\n",
        "      System.out.println(\" \"+Queue[i]+\" \"+startQue[i]+\" \"+endQue[i] +\"\"+temp );\n",
        "      if(i%Count == Count-1)\n",
        "      System.out.println(\"\");\n",
        "    }\n",
        "  }\n",
        "\n",
        "  public void setValue(){\n",
        "    System.out.print(\"Enter Number Of processes : \");\n",
        "    Count = scan.nextInt();\n",
        "\n",
        "    System.out.print(\"Enter Round Trip Time : \");\n",
        "    RTT = scan.nextInt();\n",
        "\n",
        "    processData = new int[Count][4];\n",
        "    CCycle = new int[Count];\n",
        "    PCycle = new int[Count];\n",
        "    TCycle = new int[Count];\n",
        "\n",
        "    for(int i=0;i<Count;i++){\n",
        "      System.out.print(\"Processes[\"+i+\"] :-> \");\n",
        "      processData[i][0] = i;\n",
        "      processData[i][1] = scan.nextInt();\n",
        "      CCycle[i] = processData[i][1]/RTT;\n",
        "      PCycle[i] = processData[i][1]%RTT;\n",
        "      if(PCycle[i]==0)\n",
        "      TCycle[i] = CCycle[i];\n",
        "      else\n",
        "      TCycle[i] = CCycle[i] + 1;\n",
        "      System.out.println(\"P[\"+i+\"] CC : \"+CCycle[i]+\" PC : \"+PCycle[i]+\" TC :\"+TCycle[i]);\n",
        "    }\n",
        "\n",
        "    Status = new boolean[Count];\n",
        "    for(int i=0;i<Count;i++){\n",
        "      Status[i]= false;\n",
        "    }\n",
        "    initQueue();\n",
        "  }\n",
        "\n",
        "  public void initQueue(){\n",
        "    int MaxQueLen = 0;\n",
        "    for(int i=0;i<TCycle.length;i++){\n",
        "      MaxQueLen = MaxQueLen + TCycle[i];\n",
        "    }\n",
        "    Queue = new String[MaxQueLen];\n",
        "    startQue = new int[MaxQueLen];\n",
        "    endQue = new int[MaxQueLen];\n",
        "    System.out.println(\"Queue Length : \"+MaxQueLen);\n",
        "  }\n",
        "\n",
        "  public void DisplayValue(){\n",
        "    System.out.println(\"------------------------------------------------------------------------\");\n",
        "    System.out.println(\"Process Number || Brust Time || Wating Time || TurnAround Time\");\n",
        "    System.out.println(\"------------------------------------------------------------------------\");\n",
        "    for(int i=0;i<Count;i++){\n",
        "      System.out.println(\"Processes[\"+processData[i]\n",
        "      [0]+\"]\\t||\\t\"+processData[i][1]+\"\\t||\\t\"+processData[i][2]+\"\\t||\\t\"+processData[i][3]);\n",
        "    }\n",
        "    System.out.println(\"-------------------------------------------------------------------------\");\n",
        "  }\n",
        "  \n",
        "  public static void main(String a[]){\n",
        "    RoundRobin rr = new RoundRobin();\n",
        "    rr.setValue();\n",
        "    System.out.println(\"\\n\\n***********Round Robin : (RR) :***********\\n\");\n",
        "    System.out.println(\"\\n\\nBefore Scheduling\\n\");\n",
        "    rr.DisplayValue();\n",
        "    rr.scheduleRR();\n",
        "    System.out.println(\"\\n\\nAfter Scheduling\\n\");\n",
        "    rr.DisplayValue();\n",
        "  }\n",
        "}"
      ],
      "execution_count": null,
      "outputs": [
        {
          "output_type": "stream",
          "text": [
            "Writing RoundRobin.java\n"
          ],
          "name": "stdout"
        }
      ]
    },
    {
      "cell_type": "code",
      "metadata": {
        "colab": {
          "base_uri": "https://localhost:8080/"
        },
        "id": "xw443BDP9sQ2",
        "outputId": "32b7bb39-b9db-4364-a146-88f2d39e7123"
      },
      "source": [
        "%%shell\n",
        "javac RoundRobin.java\n",
        "java RoundRobin\n",
        "\n",
        "# 7\n",
        "# 3\n",
        "\n",
        "# 2\n",
        "# 5\n",
        "# 3\n",
        "# 9\n",
        "# 1\n",
        "# 6\n",
        "# 1"
      ],
      "execution_count": null,
      "outputs": [
        {
          "output_type": "stream",
          "text": [
            "Enter Number Of processes : 7\n",
            "Enter Round Trip Time : 3\n",
            "Processes[0] :-> 2\n",
            "P[0] CC : 0 PC : 2 TC :1\n",
            "Processes[1] :-> 5\n",
            "P[1] CC : 1 PC : 2 TC :2\n",
            "Processes[2] :-> 3\n",
            "P[2] CC : 1 PC : 0 TC :1\n",
            "Processes[3] :-> 9\n",
            "P[3] CC : 3 PC : 0 TC :3\n",
            "Processes[4] :-> 1\n",
            "P[4] CC : 0 PC : 1 TC :1\n",
            "Processes[5] :-> 6\n",
            "P[5] CC : 2 PC : 0 TC :2\n",
            "Processes[6] :-> 1\n",
            "P[6] CC : 0 PC : 1 TC :1\n",
            "Queue Length : 11\n",
            "\n",
            "\n",
            "***********Round Robin : (RR) :***********\n",
            "\n",
            "\n",
            "\n",
            "Before Scheduling\n",
            "\n",
            "------------------------------------------------------------------------\n",
            "Process Number || Brust Time || Wating Time || TurnAround Time\n",
            "------------------------------------------------------------------------\n",
            "Processes[0]\t||\t2\t||\t0\t||\t0\n",
            "Processes[1]\t||\t5\t||\t0\t||\t0\n",
            "Processes[2]\t||\t3\t||\t0\t||\t0\n",
            "Processes[3]\t||\t9\t||\t0\t||\t0\n",
            "Processes[4]\t||\t1\t||\t0\t||\t0\n",
            "Processes[5]\t||\t6\t||\t0\t||\t0\n",
            "Processes[6]\t||\t1\t||\t0\t||\t0\n",
            "-------------------------------------------------------------------------\n",
            "Queue : start : End : Interval : \n",
            " process[1] 0 23\n",
            " process[2] 3 53\n",
            " process[3] 6 83\n",
            " process[5] 9 113\n",
            " process[1] 12 132\n",
            " process[2] 14 130\n",
            " process[3] 14 163\n",
            "\n",
            " process[5] 17 193\n",
            " process[3] 20 223\n",
            " process[5] 23 220\n",
            " process[3] 23 220\n",
            "\n",
            "\n",
            "After Scheduling\n",
            "\n",
            "------------------------------------------------------------------------\n",
            "Process Number || Brust Time || Wating Time || TurnAround Time\n",
            "------------------------------------------------------------------------\n",
            "Processes[0]\t||\t2\t||\t0\t||\t0\n",
            "Processes[1]\t||\t5\t||\t0\t||\t13\n",
            "Processes[2]\t||\t3\t||\t3\t||\t13\n",
            "Processes[3]\t||\t9\t||\t6\t||\t22\n",
            "Processes[4]\t||\t1\t||\t0\t||\t0\n",
            "Processes[5]\t||\t6\t||\t9\t||\t22\n",
            "Processes[6]\t||\t1\t||\t0\t||\t0\n",
            "-------------------------------------------------------------------------\n"
          ],
          "name": "stdout"
        },
        {
          "output_type": "execute_result",
          "data": {
            "text/plain": [
              ""
            ]
          },
          "metadata": {
            "tags": []
          },
          "execution_count": 38
        }
      ]
    },
    {
      "cell_type": "code",
      "metadata": {
        "colab": {
          "base_uri": "https://localhost:8080/"
        },
        "id": "jb1B0w8D8m0J",
        "outputId": "6e9569e7-8a63-4f90-da66-00c789846592"
      },
      "source": [
        "%%writefile SJF.java\n",
        "import java.util.Scanner;\n",
        "public class SJF {\n",
        "  int Count=0;\n",
        "  int[][] processData;\n",
        "  Scanner scan = new Scanner(System.in);\n",
        "\n",
        "  public static void main(String a[]){\n",
        "    System.out.println(\"\\n\\n***********Shortest Job First : (SJF) :***********\\n\");\n",
        "    SJF sjf = new SJF();\n",
        "    sjf.setValue();\n",
        "    System.out.println(\"\\n\\nBefore Scheduling\\n\");\n",
        "    sjf.DisplayValue();\n",
        "    sjf.scheduleSJF();\n",
        "    System.out.println(\"\\n\\nAfter Scheduling\\n\");\n",
        "    sjf.DisplayValue();\n",
        "  }\n",
        "\n",
        "  public void scheduleSJF(){\n",
        "    scheduleSorting();\n",
        "    scheduleCalculation();\n",
        "  }\n",
        "\n",
        "  public void scheduleSorting(){\n",
        "    for(int i=0;i<Count;i++){\n",
        "      int ele=i;\n",
        "      int eleData=processData[i][1];\n",
        "      for(int j=i+1;j<Count;j++){\n",
        "        if(eleData > processData[j][1]){\n",
        "          eleData= processData[j][1];\n",
        "          ele=processData[j][0];\n",
        "        }\n",
        "      }\n",
        "      swapProcess(i,ele);\n",
        "    }\n",
        "  }\n",
        "\n",
        "  public void swapProcess(int p1,int p2){\n",
        "    int[] temp = processData[p1];\n",
        "    processData[p1] = processData[p2];\n",
        "    processData[p2] = temp;\n",
        "  }\n",
        "\n",
        "  public void scheduleCalculation(){\n",
        "    processData[0][2] = 0;\n",
        "    processData[0][3] = processData[0][1];\n",
        "    for(int i=1;i<Count;i++){\n",
        "      processData[i][2] = processData[i-1][3];\n",
        "      processData[i][3] = processData[i][1]+processData[i][2];\n",
        "    }\n",
        "  }\n",
        "\n",
        "  public void setValue(){\n",
        "    System.out.print(\"Enter Number Of processes : \");\n",
        "    Count = scan.nextInt();\n",
        "    processData = new int[Count][4];\n",
        "    for(int i=0;i<Count;i++){\n",
        "      System.out.println(\"Processes[\"+i+\"] :-> \");\n",
        "      processData[i][0] = i;\n",
        "      System.out.print(\"\\t\\tBrust Time[\"+i+\"] :-> \");\n",
        "      processData[i][1] = scan.nextInt();\n",
        "    }\n",
        "  }\n",
        "\n",
        "  public void DisplayValue(){\n",
        "    System.out.println(\"------------------------------------------------------------------------\");\n",
        "    System.out.println(\"Process Number || Brust Time || Wating Time || TurnAround Time\");\n",
        "    System.out.println(\"------------------------------------------------------------------------\");\n",
        "    for(int i=0;i<Count;i++){\n",
        "      System.out.println(\"Processes[\"+processData[i]\n",
        "      [0]+\"]\\t||\\t\"+processData[i][1]+\"\\t||\\t\"+processData[i][2]+\"\\t||\\t\"+processData[i][3]);\n",
        "    }\n",
        "    System.out.println(\"-------------------------------------------------------------------------\");\n",
        "  }\n",
        "}"
      ],
      "execution_count": null,
      "outputs": [
        {
          "output_type": "stream",
          "text": [
            "Writing SJF.java\n"
          ],
          "name": "stdout"
        }
      ]
    },
    {
      "cell_type": "code",
      "metadata": {
        "colab": {
          "base_uri": "https://localhost:8080/"
        },
        "id": "NeBXwnDP9jXn",
        "outputId": "75bd6445-7bb0-43b2-d5a3-a6717cd5ad41"
      },
      "source": [
        "%%shell\n",
        "javac SJF.java\n",
        "java SJF\n",
        "\n",
        "# 7\n",
        "\n",
        "# 2\n",
        "# 5\n",
        "# 3\n",
        "# 9\n",
        "# 1\n",
        "# 6\n",
        "# 1"
      ],
      "execution_count": null,
      "outputs": [
        {
          "output_type": "stream",
          "text": [
            "\n",
            "\n",
            "***********Shortest Job First : (SJF) :***********\n",
            "\n",
            "Enter Number Of processes : 7\n",
            "Processes[0] :-> \n",
            "\t\tBrust Time[0] :-> 2\n",
            "Processes[1] :-> \n",
            "\t\tBrust Time[1] :-> 5\n",
            "Processes[2] :-> \n",
            "\t\tBrust Time[2] :-> 3\n",
            "Processes[3] :-> \n",
            "\t\tBrust Time[3] :-> 9\n",
            "Processes[4] :-> \n",
            "\t\tBrust Time[4] :-> 1\n",
            "Processes[5] :-> \n",
            "\t\tBrust Time[5] :-> 6\n",
            "Processes[6] :-> \n",
            "\t\tBrust Time[6] :-> 1\n",
            "\n",
            "\n",
            "Before Scheduling\n",
            "\n",
            "------------------------------------------------------------------------\n",
            "Process Number || Brust Time || Wating Time || TurnAround Time\n",
            "------------------------------------------------------------------------\n",
            "Processes[0]\t||\t2\t||\t0\t||\t0\n",
            "Processes[1]\t||\t5\t||\t0\t||\t0\n",
            "Processes[2]\t||\t3\t||\t0\t||\t0\n",
            "Processes[3]\t||\t9\t||\t0\t||\t0\n",
            "Processes[4]\t||\t1\t||\t0\t||\t0\n",
            "Processes[5]\t||\t6\t||\t0\t||\t0\n",
            "Processes[6]\t||\t1\t||\t0\t||\t0\n",
            "-------------------------------------------------------------------------\n",
            "\n",
            "\n",
            "After Scheduling\n",
            "\n",
            "------------------------------------------------------------------------\n",
            "Process Number || Brust Time || Wating Time || TurnAround Time\n",
            "------------------------------------------------------------------------\n",
            "Processes[3]\t||\t9\t||\t0\t||\t9\n",
            "Processes[5]\t||\t6\t||\t9\t||\t15\n",
            "Processes[4]\t||\t1\t||\t15\t||\t16\n",
            "Processes[2]\t||\t3\t||\t16\t||\t19\n",
            "Processes[0]\t||\t2\t||\t19\t||\t21\n",
            "Processes[6]\t||\t1\t||\t21\t||\t22\n",
            "Processes[1]\t||\t5\t||\t22\t||\t27\n",
            "-------------------------------------------------------------------------\n"
          ],
          "name": "stdout"
        },
        {
          "output_type": "execute_result",
          "data": {
            "text/plain": [
              ""
            ]
          },
          "metadata": {
            "tags": []
          },
          "execution_count": 40
        }
      ]
    }
  ]
}