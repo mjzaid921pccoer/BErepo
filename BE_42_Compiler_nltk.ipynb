{
  "nbformat": 4,
  "nbformat_minor": 0,
  "metadata": {
    "colab": {
      "name": "BE-42-Compiler-nltk.ipynb",
      "provenance": []
    },
    "kernelspec": {
      "name": "python3",
      "display_name": "Python 3"
    },
    "language_info": {
      "name": "python"
    }
  },
  "cells": [
    {
      "cell_type": "markdown",
      "metadata": {
        "id": "JxzGLfh01pCe"
      },
      "source": [
        "# Compiler Mini Project\n",
        "----"
      ]
    },
    {
      "cell_type": "markdown",
      "metadata": {
        "id": "-AaPP3Sm3EWS"
      },
      "source": [
        "# Code\n",
        "----"
      ]
    },
    {
      "cell_type": "code",
      "metadata": {
        "colab": {
          "base_uri": "https://localhost:8080/"
        },
        "id": "aXmuFzZW3mO-",
        "outputId": "8bde9e38-58fd-4f27-ab5c-9468485d1d8a"
      },
      "source": [
        "import nltk\n",
        "\n",
        "nltk.download('averaged_perceptron_tagger')\n",
        "nltk.download('treebank')\n",
        "nltk.download('punkt')\n",
        "nltk.download('brown')\n",
        "nltk.download('universal_tagset')\n",
        "nltk.download('sinica_treebank')\n",
        "nltk.download('indian')\n",
        "nltk.download('mac_morpho')\n",
        "nltk.download('conll2002')\n",
        "nltk.download('cess_cat')"
      ],
      "execution_count": null,
      "outputs": [
        {
          "output_type": "stream",
          "text": [
            "[nltk_data] Downloading package averaged_perceptron_tagger to\n",
            "[nltk_data]     /root/nltk_data...\n",
            "[nltk_data]   Package averaged_perceptron_tagger is already up-to-\n",
            "[nltk_data]       date!\n",
            "[nltk_data] Downloading package treebank to /root/nltk_data...\n",
            "[nltk_data]   Package treebank is already up-to-date!\n",
            "[nltk_data] Downloading package punkt to /root/nltk_data...\n",
            "[nltk_data]   Package punkt is already up-to-date!\n",
            "[nltk_data] Downloading package brown to /root/nltk_data...\n",
            "[nltk_data]   Package brown is already up-to-date!\n",
            "[nltk_data] Downloading package universal_tagset to /root/nltk_data...\n",
            "[nltk_data]   Package universal_tagset is already up-to-date!\n",
            "[nltk_data] Downloading package sinica_treebank to /root/nltk_data...\n",
            "[nltk_data]   Package sinica_treebank is already up-to-date!\n",
            "[nltk_data] Downloading package indian to /root/nltk_data...\n",
            "[nltk_data]   Package indian is already up-to-date!\n",
            "[nltk_data] Downloading package mac_morpho to /root/nltk_data...\n",
            "[nltk_data]   Package mac_morpho is already up-to-date!\n",
            "[nltk_data] Downloading package conll2002 to /root/nltk_data...\n",
            "[nltk_data]   Package conll2002 is already up-to-date!\n",
            "[nltk_data] Downloading package cess_cat to /root/nltk_data...\n",
            "[nltk_data]   Package cess_cat is already up-to-date!\n"
          ],
          "name": "stdout"
        },
        {
          "output_type": "execute_result",
          "data": {
            "text/plain": [
              "True"
            ]
          },
          "metadata": {
            "tags": []
          },
          "execution_count": 58
        }
      ]
    },
    {
      "cell_type": "code",
      "metadata": {
        "colab": {
          "base_uri": "https://localhost:8080/"
        },
        "id": "ifVReJC13FWA",
        "outputId": "fb7234ca-4fd9-4bc1-81b1-3bd8906b46a0"
      },
      "source": [
        "from nltk import word_tokenize, pos_tag\n",
        "nltk.tag.pos_tag(word_tokenize(\"I'm learning NLP\"))"
      ],
      "execution_count": null,
      "outputs": [
        {
          "output_type": "execute_result",
          "data": {
            "text/plain": [
              "[('I', 'PRP'), (\"'m\", 'VBP'), ('learning', 'VBG'), ('NLP', 'NNP')]"
            ]
          },
          "metadata": {
            "tags": []
          },
          "execution_count": 59
        }
      ]
    },
    {
      "cell_type": "code",
      "metadata": {
        "colab": {
          "base_uri": "https://localhost:8080/"
        },
        "id": "i6FOAq_j3Or0",
        "outputId": "c65096e4-8237-4a0b-a458-ee803b9c9687"
      },
      "source": [
        "tagged_sentences = nltk.corpus.treebank.tagged_sents() \n",
        "print (tagged_sentences[0])"
      ],
      "execution_count": null,
      "outputs": [
        {
          "output_type": "stream",
          "text": [
            "[('Pierre', 'NNP'), ('Vinken', 'NNP'), (',', ','), ('61', 'CD'), ('years', 'NNS'), ('old', 'JJ'), (',', ','), ('will', 'MD'), ('join', 'VB'), ('the', 'DT'), ('board', 'NN'), ('as', 'IN'), ('a', 'DT'), ('nonexecutive', 'JJ'), ('director', 'NN'), ('Nov.', 'NNP'), ('29', 'CD'), ('.', '.')]\n"
          ],
          "name": "stdout"
        }
      ]
    },
    {
      "cell_type": "code",
      "metadata": {
        "colab": {
          "base_uri": "https://localhost:8080/"
        },
        "id": "bs4cEwLG4C1b",
        "outputId": "aa96d70e-098d-4279-a423-3368c510700c"
      },
      "source": [
        "print (\"Tagged sentences: \", len(tagged_sentences))"
      ],
      "execution_count": null,
      "outputs": [
        {
          "output_type": "stream",
          "text": [
            "Tagged sentences:  3914\n"
          ],
          "name": "stdout"
        }
      ]
    },
    {
      "cell_type": "code",
      "metadata": {
        "colab": {
          "base_uri": "https://localhost:8080/"
        },
        "id": "cVIHKBTd4GVh",
        "outputId": "f35cb978-13d0-4a21-ae76-15c27255fdca"
      },
      "source": [
        "print (\"Tagged words:\",len(nltk.corpus.treebank.tagged_words()))"
      ],
      "execution_count": null,
      "outputs": [
        {
          "output_type": "stream",
          "text": [
            "Tagged words: 100676\n"
          ],
          "name": "stdout"
        }
      ]
    },
    {
      "cell_type": "markdown",
      "metadata": {
        "id": "jS-AAevi4SN0"
      },
      "source": [
        "# CHUNKERS\n",
        "----"
      ]
    },
    {
      "cell_type": "code",
      "metadata": {
        "colab": {
          "base_uri": "https://localhost:8080/"
        },
        "id": "JOjKumKT4Qus",
        "outputId": "f50a1877-19d0-4611-83f6-24ba5736daf3"
      },
      "source": [
        "sentence = \"My name is Jocelyn\" \n",
        "token = nltk.word_tokenize(sentence)\n",
        "token"
      ],
      "execution_count": null,
      "outputs": [
        {
          "output_type": "execute_result",
          "data": {
            "text/plain": [
              "['My', 'name', 'is', 'Jocelyn']"
            ]
          },
          "metadata": {
            "tags": []
          },
          "execution_count": 63
        }
      ]
    },
    {
      "cell_type": "code",
      "metadata": {
        "colab": {
          "base_uri": "https://localhost:8080/"
        },
        "id": "6q3cAh9H6BKt",
        "outputId": "c023e64c-9d8a-4753-91b0-c444c3bb40b3"
      },
      "source": [
        "nltk.pos_tag(token)"
      ],
      "execution_count": null,
      "outputs": [
        {
          "output_type": "execute_result",
          "data": {
            "text/plain": [
              "[('My', 'PRP$'), ('name', 'NN'), ('is', 'VBZ'), ('Jocelyn', 'NNP')]"
            ]
          },
          "metadata": {
            "tags": []
          },
          "execution_count": 64
        }
      ]
    },
    {
      "cell_type": "markdown",
      "metadata": {
        "id": "On5ue_S36FGi"
      },
      "source": [
        "# SUBTREE\n",
        "----"
      ]
    },
    {
      "cell_type": "code",
      "metadata": {
        "colab": {
          "base_uri": "https://localhost:8080/"
        },
        "id": "t_XlpLKE6JMH",
        "outputId": "b86bb80c-02d0-496a-9ba0-9245e5e230f1"
      },
      "source": [
        "sentence = \"the little yellow dog barked at the cat\"\n",
        "grammar = (' ' ' NP: {<DT>?<JJ>*<NN>} # NP ' ' ')\n",
        "chunkParser = nltk.RegexpParser(grammar) \n",
        "tagged = nltk.pos_tag(nltk.word_tokenize(sentence)) \n",
        "tagged"
      ],
      "execution_count": null,
      "outputs": [
        {
          "output_type": "execute_result",
          "data": {
            "text/plain": [
              "[('the', 'DT'),\n",
              " ('little', 'JJ'),\n",
              " ('yellow', 'JJ'),\n",
              " ('dog', 'NN'),\n",
              " ('barked', 'VBD'),\n",
              " ('at', 'IN'),\n",
              " ('the', 'DT'),\n",
              " ('cat', 'NN')]"
            ]
          },
          "metadata": {
            "tags": []
          },
          "execution_count": 65
        }
      ]
    },
    {
      "cell_type": "code",
      "metadata": {
        "colab": {
          "base_uri": "https://localhost:8080/"
        },
        "id": "QJDjumVT6VRt",
        "outputId": "528eb0ed-8afe-4a85-eee7-072237f6febe"
      },
      "source": [
        "tree = chunkParser.parse(tagged)\n",
        "for subtree in tree.subtrees(): \n",
        "        print(subtree)"
      ],
      "execution_count": null,
      "outputs": [
        {
          "output_type": "stream",
          "text": [
            "(S\n",
            "  (NP the/DT little/JJ yellow/JJ dog/NN)\n",
            "  barked/VBD\n",
            "  at/IN\n",
            "  (NP the/DT cat/NN))\n",
            "(NP the/DT little/JJ yellow/JJ dog/NN)\n",
            "(NP the/DT cat/NN)\n"
          ],
          "name": "stdout"
        }
      ]
    },
    {
      "cell_type": "markdown",
      "metadata": {
        "id": "e6hN1KTT6ZqV"
      },
      "source": [
        "# TAGGER\n",
        "----"
      ]
    },
    {
      "cell_type": "code",
      "metadata": {
        "colab": {
          "base_uri": "https://localhost:8080/"
        },
        "id": "xF7kEddU6fYd",
        "outputId": "39504587-d7f0-4fcb-e9e3-43d364065e83"
      },
      "source": [
        "from nltk.tokenize import word_tokenize\n",
        "text = word_tokenize(\"And now for something completely different\")\n",
        "nltk.pos_tag(text)"
      ],
      "execution_count": null,
      "outputs": [
        {
          "output_type": "execute_result",
          "data": {
            "text/plain": [
              "[('And', 'CC'),\n",
              " ('now', 'RB'),\n",
              " ('for', 'IN'),\n",
              " ('something', 'NN'),\n",
              " ('completely', 'RB'),\n",
              " ('different', 'JJ')]"
            ]
          },
          "metadata": {
            "tags": []
          },
          "execution_count": 67
        }
      ]
    },
    {
      "cell_type": "markdown",
      "metadata": {
        "id": "wYivGV8X6n5A"
      },
      "source": [
        "# TAGGED CORPORA\n",
        "---- "
      ]
    },
    {
      "cell_type": "code",
      "metadata": {
        "colab": {
          "base_uri": "https://localhost:8080/"
        },
        "id": "IsYgc7Y16tUo",
        "outputId": "d171f6a5-18ce-4756-a80b-ba4d495cc9b9"
      },
      "source": [
        "tagged_token = nltk.tag.str2tuple('fly/NN')\n",
        "print(tagged_token)\n",
        "print(tagged_token[0],'\\n',tagged_token[1])"
      ],
      "execution_count": null,
      "outputs": [
        {
          "output_type": "stream",
          "text": [
            "('fly', 'NN')\n",
            "fly \n",
            " NN\n"
          ],
          "name": "stdout"
        }
      ]
    },
    {
      "cell_type": "markdown",
      "metadata": {
        "id": "rw8QhTd47BKk"
      },
      "source": [
        "# READING CORPORA\n",
        "----"
      ]
    },
    {
      "cell_type": "code",
      "metadata": {
        "colab": {
          "base_uri": "https://localhost:8080/"
        },
        "id": "z29LC3DH7qBC",
        "outputId": "0cfd179d-7650-4d2d-9e35-1865fa3f4c53"
      },
      "source": [
        "nltk.corpus.brown.tagged_words() "
      ],
      "execution_count": null,
      "outputs": [
        {
          "output_type": "execute_result",
          "data": {
            "text/plain": [
              "[('The', 'AT'), ('Fulton', 'NP-TL'), ...]"
            ]
          },
          "metadata": {
            "tags": []
          },
          "execution_count": 69
        }
      ]
    },
    {
      "cell_type": "code",
      "metadata": {
        "colab": {
          "base_uri": "https://localhost:8080/"
        },
        "id": "-doOtcZj7tqA",
        "outputId": "36889b23-74c5-4785-9e14-fe4abbbe5fde"
      },
      "source": [
        "nltk.corpus.brown.tagged_words(tagset='universal')"
      ],
      "execution_count": null,
      "outputs": [
        {
          "output_type": "execute_result",
          "data": {
            "text/plain": [
              "[('The', 'DET'), ('Fulton', 'NOUN'), ...]"
            ]
          },
          "metadata": {
            "tags": []
          },
          "execution_count": 70
        }
      ]
    },
    {
      "cell_type": "code",
      "metadata": {
        "colab": {
          "base_uri": "https://localhost:8080/"
        },
        "id": "yGToJ0RY757c",
        "outputId": "db9cc6c7-6d9b-4597-9ea5-be47738b0ed7"
      },
      "source": [
        "nltk.corpus.sinica_treebank.tagged_words()"
      ],
      "execution_count": null,
      "outputs": [
        {
          "output_type": "execute_result",
          "data": {
            "text/plain": [
              "[('一', 'Neu'), ('友情', 'Nad'), ('嘉珍', 'Nba'), ...]"
            ]
          },
          "metadata": {
            "tags": []
          },
          "execution_count": 71
        }
      ]
    },
    {
      "cell_type": "code",
      "metadata": {
        "colab": {
          "base_uri": "https://localhost:8080/"
        },
        "id": "ax2K27Ga78YE",
        "outputId": "b6987013-e1a3-4291-b5e3-05e1bd9391d4"
      },
      "source": [
        "nltk.corpus.indian.tagged_words()"
      ],
      "execution_count": null,
      "outputs": [
        {
          "output_type": "execute_result",
          "data": {
            "text/plain": [
              "[('মহিষের', 'NN'), ('সন্তান', 'NN'), (':', 'SYM'), ...]"
            ]
          },
          "metadata": {
            "tags": []
          },
          "execution_count": 72
        }
      ]
    },
    {
      "cell_type": "code",
      "metadata": {
        "colab": {
          "base_uri": "https://localhost:8080/"
        },
        "id": "Xa-SgzHU7-5S",
        "outputId": "40834c6f-56c9-4377-be5a-e47ef26035b1"
      },
      "source": [
        "nltk.corpus.mac_morpho.tagged_words()"
      ],
      "execution_count": null,
      "outputs": [
        {
          "output_type": "execute_result",
          "data": {
            "text/plain": [
              "[('Jersei', 'N'), ('atinge', 'V'), ('média', 'N'), ...]"
            ]
          },
          "metadata": {
            "tags": []
          },
          "execution_count": 73
        }
      ]
    },
    {
      "cell_type": "code",
      "metadata": {
        "colab": {
          "base_uri": "https://localhost:8080/"
        },
        "id": "9qj4NVnN8CRd",
        "outputId": "4d7b43ec-0ebb-4448-e9c2-44ed6fd61940"
      },
      "source": [
        " nltk.corpus.conll2002.tagged_words()"
      ],
      "execution_count": null,
      "outputs": [
        {
          "output_type": "execute_result",
          "data": {
            "text/plain": [
              "[('Sao', 'NC'), ('Paulo', 'VMI'), ('(', 'Fpa'), ...]"
            ]
          },
          "metadata": {
            "tags": []
          },
          "execution_count": 74
        }
      ]
    },
    {
      "cell_type": "code",
      "metadata": {
        "colab": {
          "base_uri": "https://localhost:8080/"
        },
        "id": "T8awzsqc8Ezc",
        "outputId": "0b2e7975-da62-4e40-831b-0385864beeb3"
      },
      "source": [
        "nltk.corpus.cess_cat.tagged_words()"
      ],
      "execution_count": null,
      "outputs": [
        {
          "output_type": "execute_result",
          "data": {
            "text/plain": [
              "[('El', 'da0ms0'), ('Tribunal_Suprem', 'np0000o'), ...]"
            ]
          },
          "metadata": {
            "tags": []
          },
          "execution_count": 75
        }
      ]
    },
    {
      "cell_type": "markdown",
      "metadata": {
        "id": "j956IIyL8INM"
      },
      "source": [
        "# VERB\n",
        "----"
      ]
    },
    {
      "cell_type": "code",
      "metadata": {
        "colab": {
          "base_uri": "https://localhost:8080/"
        },
        "id": "18lB1N0M8HjE",
        "outputId": "0062c202-fc0e-4a10-d0c1-ba3606a5e256"
      },
      "source": [
        "wsj = nltk.corpus.treebank.tagged_words(tagset='universal')\n",
        "word_tag_fd = nltk.FreqDist(wsj)\n",
        "[wt[0] for (wt, _) in word_tag_fd.most_common() if wt[1] == 'VERB']"
      ],
      "execution_count": null,
      "outputs": [
        {
          "output_type": "execute_result",
          "data": {
            "text/plain": [
              "['is',\n",
              " 'said',\n",
              " 'was',\n",
              " 'are',\n",
              " 'be',\n",
              " 'has',\n",
              " 'have',\n",
              " 'will',\n",
              " 'says',\n",
              " 'would',\n",
              " 'were',\n",
              " 'had',\n",
              " 'been',\n",
              " 'could',\n",
              " \"'s\",\n",
              " 'can',\n",
              " 'do',\n",
              " 'say',\n",
              " 'make',\n",
              " 'may',\n",
              " 'did',\n",
              " 'rose',\n",
              " 'made',\n",
              " 'does',\n",
              " 'expected',\n",
              " 'buy',\n",
              " 'take',\n",
              " 'get',\n",
              " 'might',\n",
              " 'sell',\n",
              " 'added',\n",
              " 'sold',\n",
              " 'help',\n",
              " 'including',\n",
              " 'should',\n",
              " 'reported',\n",
              " 'according',\n",
              " 'pay',\n",
              " 'compared',\n",
              " 'being',\n",
              " 'fell',\n",
              " 'began',\n",
              " 'based',\n",
              " 'used',\n",
              " 'closed',\n",
              " \"'re\",\n",
              " 'want',\n",
              " 'see',\n",
              " 'took',\n",
              " 'yield',\n",
              " 'offered',\n",
              " 'set',\n",
              " 'priced',\n",
              " 'approved',\n",
              " 'come',\n",
              " 'noted',\n",
              " 'cut',\n",
              " 'ended',\n",
              " 'found',\n",
              " 'increased',\n",
              " 'become',\n",
              " 'think',\n",
              " 'named',\n",
              " 'go',\n",
              " 'trying',\n",
              " 'proposed',\n",
              " 'received',\n",
              " 'growing',\n",
              " 'declined',\n",
              " 'held',\n",
              " 'give',\n",
              " 'came',\n",
              " 'use',\n",
              " 'put',\n",
              " 'making',\n",
              " 'continue',\n",
              " 'raise',\n",
              " 'estimated',\n",
              " 'called',\n",
              " 'paid',\n",
              " 'designed',\n",
              " 'going',\n",
              " 'expects',\n",
              " 'seeking',\n",
              " 'must',\n",
              " 'plans',\n",
              " 'wo',\n",
              " 'increasing',\n",
              " 'saying',\n",
              " 'got',\n",
              " 'owns',\n",
              " 'trading',\n",
              " 'acquired',\n",
              " 'gained',\n",
              " 'fined',\n",
              " 'reached',\n",
              " 'holding',\n",
              " 'announced',\n",
              " 'filed',\n",
              " 'became',\n",
              " 'seek',\n",
              " 'included',\n",
              " 'using',\n",
              " 'led',\n",
              " 'decided',\n",
              " 'keep',\n",
              " 'disclosed',\n",
              " 'agreed',\n",
              " 'find',\n",
              " 'failed',\n",
              " 'run',\n",
              " 'taken',\n",
              " 'know',\n",
              " 'coming',\n",
              " \"'ve\",\n",
              " 'completed',\n",
              " 'built',\n",
              " 'raised',\n",
              " 'traded',\n",
              " 'lost',\n",
              " 'continued',\n",
              " 'paying',\n",
              " 'include',\n",
              " 'believe',\n",
              " 'receive',\n",
              " 'posted',\n",
              " 'wants',\n",
              " 'scheduled',\n",
              " 'went',\n",
              " 'indicated',\n",
              " 'provide',\n",
              " 'helped',\n",
              " 'needed',\n",
              " 'goes',\n",
              " 'told',\n",
              " 'result',\n",
              " 'need',\n",
              " 'caused',\n",
              " 'continues',\n",
              " 'dropped',\n",
              " 'showed',\n",
              " 'ordered',\n",
              " 'changed',\n",
              " 'face',\n",
              " 'continuing',\n",
              " 'launched',\n",
              " 'gives',\n",
              " 'reduce',\n",
              " \"'m\",\n",
              " 'lead',\n",
              " 'planned',\n",
              " 'wanted',\n",
              " 'following',\n",
              " 'remains',\n",
              " 'followed',\n",
              " 'remain',\n",
              " 'meet',\n",
              " 'believes',\n",
              " 'trade',\n",
              " 'includes',\n",
              " 'improve',\n",
              " 'buying',\n",
              " 'issued',\n",
              " 'rise',\n",
              " 'leading',\n",
              " 'ca',\n",
              " 'involved',\n",
              " 'known',\n",
              " 'like',\n",
              " 'makes',\n",
              " 'having',\n",
              " 'rejected',\n",
              " 'rising',\n",
              " 'increase',\n",
              " 'turned',\n",
              " 'operating',\n",
              " 'read',\n",
              " 'feel',\n",
              " 'win',\n",
              " 'given',\n",
              " 'prevent',\n",
              " 'offset',\n",
              " 'barred',\n",
              " 'earned',\n",
              " 'consented',\n",
              " 'support',\n",
              " 'gave',\n",
              " 'totaled',\n",
              " 'acquire',\n",
              " 'required',\n",
              " 'begin',\n",
              " 'require',\n",
              " 'offer',\n",
              " 'preferred',\n",
              " 'produced',\n",
              " 'bought',\n",
              " 'offering',\n",
              " 'asked',\n",
              " 'carry',\n",
              " 'build',\n",
              " 'takes',\n",
              " 'seem',\n",
              " 'introduced',\n",
              " 'taking',\n",
              " 'won',\n",
              " 'aimed',\n",
              " 'hurt',\n",
              " 'adds',\n",
              " 'cited',\n",
              " 'sought',\n",
              " 'bring',\n",
              " 'remaining',\n",
              " 'considered',\n",
              " 'suspended',\n",
              " 'prove',\n",
              " 'looking',\n",
              " 'doing',\n",
              " 'involving',\n",
              " 'opened',\n",
              " 'working',\n",
              " 'close',\n",
              " 'own',\n",
              " 'report',\n",
              " 'left',\n",
              " 'boosted',\n",
              " 'giving',\n",
              " 'fixed',\n",
              " 'listed',\n",
              " 'runs',\n",
              " 'purchasing',\n",
              " 'consider',\n",
              " 'prepared',\n",
              " 'hit',\n",
              " 'getting',\n",
              " 'alleged',\n",
              " 'look',\n",
              " 'allowed',\n",
              " 'approve',\n",
              " 'wrote',\n",
              " 'reduced',\n",
              " 'fall',\n",
              " 'advanced',\n",
              " 'appears',\n",
              " 'mixed',\n",
              " 'described',\n",
              " 'expect',\n",
              " 'manufacturing',\n",
              " 'spent',\n",
              " 'According',\n",
              " 'hopes',\n",
              " 'underlying',\n",
              " 'produce',\n",
              " 'work',\n",
              " 'placed',\n",
              " 'allow',\n",
              " 'sells',\n",
              " 'operate',\n",
              " 'extend',\n",
              " 'surged',\n",
              " 'jumped',\n",
              " 'boost',\n",
              " 'slowing',\n",
              " 'provided',\n",
              " 'seems',\n",
              " 'ending',\n",
              " 'selling',\n",
              " 'opposed',\n",
              " 'created',\n",
              " 'move',\n",
              " 'seen',\n",
              " 'comment',\n",
              " 'valued',\n",
              " 'losing',\n",
              " 'mature',\n",
              " 'provides',\n",
              " 'let',\n",
              " 'stopped',\n",
              " 'worked',\n",
              " 'thought',\n",
              " 'watch',\n",
              " 'introduce',\n",
              " 'related',\n",
              " 'improved',\n",
              " 'raising',\n",
              " 'seemed',\n",
              " 'force',\n",
              " 'beginning',\n",
              " 'leave',\n",
              " 'believed',\n",
              " 'stand',\n",
              " 'developed',\n",
              " 'decline',\n",
              " 'expire',\n",
              " 'managing',\n",
              " 'hold',\n",
              " 'invested',\n",
              " 'suggests',\n",
              " 'represent',\n",
              " 'settle',\n",
              " 'change',\n",
              " 'contributed',\n",
              " 'indicates',\n",
              " 'asking',\n",
              " 'elaborate',\n",
              " 'shows',\n",
              " 'refused',\n",
              " 'quoted',\n",
              " 'comes',\n",
              " 'ease',\n",
              " 'passed',\n",
              " 'Says',\n",
              " 'avoid',\n",
              " 'threatened',\n",
              " 'cause',\n",
              " 'end',\n",
              " 'violate',\n",
              " 'operates',\n",
              " 'kept',\n",
              " \"'ll\",\n",
              " 'soared',\n",
              " 'eliminated',\n",
              " 'becomes',\n",
              " 'create',\n",
              " 'print',\n",
              " 'shall',\n",
              " 'show',\n",
              " 'replaced',\n",
              " 'owned',\n",
              " 'argue',\n",
              " 'beat',\n",
              " 'elected',\n",
              " 'complete',\n",
              " 'issue',\n",
              " 'act',\n",
              " 'return',\n",
              " 'registered',\n",
              " 'suffer',\n",
              " 'worried',\n",
              " 'succeed',\n",
              " 'block',\n",
              " 'contain',\n",
              " 'occur',\n",
              " 'pursue',\n",
              " 'combined',\n",
              " 'requires',\n",
              " 'met',\n",
              " 'brought',\n",
              " 'started',\n",
              " 'covered',\n",
              " 'turn',\n",
              " 'running',\n",
              " 'eliminate',\n",
              " 'file',\n",
              " 'plunged',\n",
              " 'fallen',\n",
              " 'ran',\n",
              " 'fired',\n",
              " 'becoming',\n",
              " 'contained',\n",
              " 'managed',\n",
              " 'Take',\n",
              " 'suggested',\n",
              " 'accused',\n",
              " 'appeared',\n",
              " 'slow',\n",
              " 'helping',\n",
              " 'discovered',\n",
              " 'add',\n",
              " 'referred',\n",
              " 'oppose',\n",
              " 'stop',\n",
              " 'claim',\n",
              " 'sent',\n",
              " 'formed',\n",
              " 'resulting',\n",
              " 'turning',\n",
              " 'limited',\n",
              " 'shipped',\n",
              " 'forced',\n",
              " 'send',\n",
              " 'attract',\n",
              " 'admitting',\n",
              " 'denying',\n",
              " 'disgorge',\n",
              " 'attributed',\n",
              " 'causing',\n",
              " 'studied',\n",
              " 'resigned',\n",
              " 'cutting',\n",
              " 'voted',\n",
              " 'settled',\n",
              " 'expand',\n",
              " 'stood',\n",
              " 'retired',\n",
              " 'moved',\n",
              " 'pending',\n",
              " 'providing',\n",
              " 'anticipated',\n",
              " 'decide',\n",
              " 'creating',\n",
              " 'prompted',\n",
              " 'developing',\n",
              " 'start',\n",
              " 'maintained',\n",
              " 'expanding',\n",
              " 'follows',\n",
              " 'ranged',\n",
              " 'focused',\n",
              " 'climbed',\n",
              " 'reflect',\n",
              " 'insist',\n",
              " 'owed',\n",
              " 'happen',\n",
              " 'adjusted',\n",
              " 'awarded',\n",
              " 'reporting',\n",
              " 'talk',\n",
              " 'offers',\n",
              " 'written',\n",
              " 'urged',\n",
              " 'carried',\n",
              " 'identified',\n",
              " 'confirmed',\n",
              " 'playing',\n",
              " 'thinking',\n",
              " 'calls',\n",
              " 'means',\n",
              " 'tried',\n",
              " 'lying',\n",
              " 'asks',\n",
              " 'building',\n",
              " 'suggest',\n",
              " 'falling',\n",
              " 'discuss',\n",
              " 'matched',\n",
              " 'concluded',\n",
              " 'keeping',\n",
              " \"'d\",\n",
              " 'returned',\n",
              " 'withdrawn',\n",
              " 'bid',\n",
              " 'saw',\n",
              " 'signed',\n",
              " 'financing',\n",
              " 'assuming',\n",
              " 'adopted',\n",
              " 'attempting',\n",
              " 'accepted',\n",
              " 'cover',\n",
              " 'facing',\n",
              " 'risk',\n",
              " 'expanded',\n",
              " 'leaving',\n",
              " 'raises',\n",
              " 'declared',\n",
              " 'exercise',\n",
              " 'finished',\n",
              " 'regarding',\n",
              " 'finance',\n",
              " 'charge',\n",
              " 'starting',\n",
              " 'realize',\n",
              " 'felt',\n",
              " 'remained',\n",
              " 'expressed',\n",
              " 'done',\n",
              " 'replace',\n",
              " 'veto',\n",
              " 'stay',\n",
              " 'delivered',\n",
              " 'join',\n",
              " 'publishing',\n",
              " 'enters',\n",
              " 'appear',\n",
              " 'talking',\n",
              " 'heard',\n",
              " 'dumped',\n",
              " 'imported',\n",
              " 'assume',\n",
              " 'declining',\n",
              " 'capture',\n",
              " 'grew',\n",
              " 'holds',\n",
              " 'lift',\n",
              " 'treat',\n",
              " 'receiving',\n",
              " 'joined',\n",
              " 'reflecting',\n",
              " 'released',\n",
              " 'maintaining',\n",
              " 'cost',\n",
              " 'lowered',\n",
              " 'costs',\n",
              " 'exceed',\n",
              " 'gaining',\n",
              " 'considering',\n",
              " 'determined',\n",
              " 'ruled',\n",
              " 'hope',\n",
              " 'located',\n",
              " 'tied',\n",
              " 'heads',\n",
              " 'applied',\n",
              " 'failing',\n",
              " 'showing',\n",
              " 'apply',\n",
              " 'protecting',\n",
              " 'tells',\n",
              " 'complained',\n",
              " 'ask',\n",
              " 'triggered',\n",
              " 'entered',\n",
              " 'total',\n",
              " 'producing',\n",
              " 'denied',\n",
              " 'reducing',\n",
              " 'reflects',\n",
              " 'account',\n",
              " 'predicting',\n",
              " 'intended',\n",
              " 'purchased',\n",
              " 'blamed',\n",
              " 'worry',\n",
              " 'broken',\n",
              " 'carries',\n",
              " 'learned',\n",
              " 'renewed',\n",
              " 'walk',\n",
              " 'viewed',\n",
              " 'die',\n",
              " 'speculated',\n",
              " 'needs',\n",
              " 'gets',\n",
              " 'wait',\n",
              " 'caught',\n",
              " 'claims',\n",
              " 'choose',\n",
              " 'fail',\n",
              " 'insists',\n",
              " 'knows',\n",
              " 'pass',\n",
              " 'grown',\n",
              " 'gotten',\n",
              " 'grows',\n",
              " 'responded',\n",
              " 'play',\n",
              " 'try',\n",
              " 'mean',\n",
              " 'encourage',\n",
              " 'chosen',\n",
              " 'admits',\n",
              " 'Do',\n",
              " 'dismissed',\n",
              " 'realized',\n",
              " 'serve',\n",
              " 'associated',\n",
              " 'slipped',\n",
              " 'argued',\n",
              " 'citing',\n",
              " 'seeks',\n",
              " 'preventing',\n",
              " 'sparked',\n",
              " 'review',\n",
              " 'opening',\n",
              " 'fueled',\n",
              " 'negotiate',\n",
              " 'drop',\n",
              " 'pleased',\n",
              " 'spend',\n",
              " 'care',\n",
              " 'represents',\n",
              " 'spread',\n",
              " 'explains',\n",
              " 'push',\n",
              " 'divided',\n",
              " 'proposing',\n",
              " 'gain',\n",
              " 'representing',\n",
              " 'financed',\n",
              " 'execute',\n",
              " 'existing',\n",
              " 'discussed',\n",
              " 'uses',\n",
              " 'live',\n",
              " 'ring',\n",
              " 'signal',\n",
              " 'focus',\n",
              " 'hired',\n",
              " 'limit',\n",
              " 'begins',\n",
              " 'reflected',\n",
              " 'hear',\n",
              " 'determine',\n",
              " 'profit',\n",
              " 'marketed',\n",
              " 'warned',\n",
              " 'qualified',\n",
              " 'died',\n",
              " 'surviving',\n",
              " 'study',\n",
              " 'explained',\n",
              " 'imposed',\n",
              " 'recognize',\n",
              " 'eased',\n",
              " 'indicate',\n",
              " 'permit',\n",
              " 'retain',\n",
              " 'yielding',\n",
              " 'boosts',\n",
              " 'obtain',\n",
              " 'employs',\n",
              " 'banned',\n",
              " 'pointed',\n",
              " 'leaves',\n",
              " 'withdraw',\n",
              " 'refund',\n",
              " 'collected',\n",
              " 'upheld',\n",
              " 'benefited',\n",
              " 'doubled',\n",
              " 'attached',\n",
              " 'jump',\n",
              " 'compete',\n",
              " 'incurred',\n",
              " 'removed',\n",
              " 'honor',\n",
              " 'varying',\n",
              " 'marketing',\n",
              " 'protect',\n",
              " 'reach',\n",
              " 'share',\n",
              " 'requested',\n",
              " 'grant',\n",
              " 'stepping',\n",
              " 'direct',\n",
              " 'curb',\n",
              " 'controlling',\n",
              " 'snapped',\n",
              " 'tend',\n",
              " 'cast',\n",
              " 'clear',\n",
              " 'permitted',\n",
              " 'remove',\n",
              " 'revive',\n",
              " 'draw',\n",
              " 'predicted',\n",
              " 'suspect',\n",
              " 'coupled',\n",
              " 'belong',\n",
              " 'call',\n",
              " 'describes',\n",
              " 'played',\n",
              " 'committed',\n",
              " 'advertising',\n",
              " 'tested',\n",
              " 'revived',\n",
              " 'earns',\n",
              " 'feeling',\n",
              " 'turns',\n",
              " 'executed',\n",
              " 'killed',\n",
              " 'presented',\n",
              " 'deserve',\n",
              " 'mention',\n",
              " 'seeing',\n",
              " 'discussing',\n",
              " 'convicted',\n",
              " 'telling',\n",
              " 'agree',\n",
              " 'denies',\n",
              " 'pursued',\n",
              " 'spurred',\n",
              " 'accommodate',\n",
              " 'surrendered',\n",
              " 'gone',\n",
              " 'teach',\n",
              " 'booming',\n",
              " 'serving',\n",
              " 'restore',\n",
              " 'restructured',\n",
              " 'taught',\n",
              " 'feared',\n",
              " 'meant',\n",
              " 'adding',\n",
              " 'publishes',\n",
              " 'improving',\n",
              " 'ignoring',\n",
              " 'represented',\n",
              " 'funded',\n",
              " 'involve',\n",
              " 'charged',\n",
              " 'fared',\n",
              " 'eliminates',\n",
              " 'tumbled',\n",
              " 'redeemed',\n",
              " 'resolve',\n",
              " 'stem',\n",
              " 'hire',\n",
              " 'obtained',\n",
              " 'develop',\n",
              " 'employed',\n",
              " 'prohibits',\n",
              " 'promote',\n",
              " 'impose',\n",
              " 'consist',\n",
              " 'investigating',\n",
              " 'accepting',\n",
              " 'plan',\n",
              " 'insisted',\n",
              " 'contacted',\n",
              " 'note',\n",
              " 'driving',\n",
              " 'contends',\n",
              " 'cites',\n",
              " 'point',\n",
              " 'sign',\n",
              " 'printed',\n",
              " 'advertise',\n",
              " 'breaks',\n",
              " 'damaged',\n",
              " 'check',\n",
              " 'thinks',\n",
              " 'looming',\n",
              " 'expecting',\n",
              " 'exercised',\n",
              " 'auctioned',\n",
              " 'disappointed',\n",
              " 'subordinated',\n",
              " 'respond',\n",
              " 'secured',\n",
              " 'integrated',\n",
              " 'performed',\n",
              " 'targeting',\n",
              " 'stepped',\n",
              " 'moving',\n",
              " 'split',\n",
              " 'Buy',\n",
              " 'stemming',\n",
              " 'executing',\n",
              " 'shut',\n",
              " 'writing',\n",
              " 'regulated',\n",
              " 'stands',\n",
              " 'attend',\n",
              " 'reopen',\n",
              " 'drawn',\n",
              " 'Put',\n",
              " 'notes',\n",
              " 'weaken',\n",
              " 'trailed',\n",
              " 'deliver',\n",
              " 'occurred',\n",
              " 'changing',\n",
              " 'accept',\n",
              " 'expelled',\n",
              " 'amounted',\n",
              " 'scrutinizing',\n",
              " 'suspend',\n",
              " 'compares',\n",
              " 'backed',\n",
              " 'vote',\n",
              " 'covers',\n",
              " 'knew',\n",
              " 'joining',\n",
              " 'record',\n",
              " 'regarded',\n",
              " 'copy',\n",
              " 'conclude',\n",
              " 'ought',\n",
              " 'dominated',\n",
              " 'pushed',\n",
              " 'closing',\n",
              " 'rumored',\n",
              " 'respected',\n",
              " 'specified',\n",
              " 'understand',\n",
              " 'supported',\n",
              " 'perform',\n",
              " 'declaring',\n",
              " 'struggling',\n",
              " 'abandoned',\n",
              " 'considers',\n",
              " 'warning',\n",
              " 'offsetting',\n",
              " 'break',\n",
              " 'follow',\n",
              " 'figure',\n",
              " 'increases',\n",
              " 'proving',\n",
              " 'edged',\n",
              " 'Buying',\n",
              " 'forecast',\n",
              " 'specify',\n",
              " 'extended',\n",
              " 'tendered',\n",
              " 'unveiled',\n",
              " 'treating',\n",
              " 'exposed',\n",
              " 'industrialized',\n",
              " 'regulate',\n",
              " 'contracted',\n",
              " 'blip',\n",
              " 'vary',\n",
              " 'slid',\n",
              " 'succeeds',\n",
              " 'lifted',\n",
              " 'acts',\n",
              " 'welcomed',\n",
              " 'squeezed',\n",
              " 'fed',\n",
              " 'casting',\n",
              " 'prolonged',\n",
              " 'recorded',\n",
              " 'announce',\n",
              " 'reward',\n",
              " 'bowed',\n",
              " 'justify',\n",
              " 'asserted',\n",
              " 'appealing',\n",
              " 'faces',\n",
              " 'rule',\n",
              " 'inched',\n",
              " 'manufacture',\n",
              " 'fund',\n",
              " 'anticipates',\n",
              " 'link',\n",
              " 'describe',\n",
              " 'roll',\n",
              " 'calculate',\n",
              " 'transferring',\n",
              " 'favored',\n",
              " 'claiming',\n",
              " 'hurting',\n",
              " 'investing',\n",
              " 'trained',\n",
              " 'instituted',\n",
              " 'introducing',\n",
              " 'vowed',\n",
              " 'deemed',\n",
              " 'pose',\n",
              " 'concerned',\n",
              " 'accelerated',\n",
              " 'feels',\n",
              " 'solved',\n",
              " 'forgiven',\n",
              " 'stored',\n",
              " 'assembled',\n",
              " 'totaling',\n",
              " 'linked',\n",
              " 'forces',\n",
              " 'attempts',\n",
              " 'advertised',\n",
              " 'marks',\n",
              " 'sweeping',\n",
              " 'invest',\n",
              " 'kicked',\n",
              " 'brings',\n",
              " 'scrambled',\n",
              " 'diversify',\n",
              " 'swing',\n",
              " 'skyrocketed',\n",
              " 'targeted',\n",
              " 'repaid',\n",
              " 'open',\n",
              " 'crippled',\n",
              " 'lent',\n",
              " 'belongs',\n",
              " 'stressed',\n",
              " 'leveling',\n",
              " 'manufactured',\n",
              " 'pick',\n",
              " 'cite',\n",
              " 'provoke',\n",
              " 'last',\n",
              " 'climbing',\n",
              " 'Excluding',\n",
              " 'adjusting',\n",
              " 'counts',\n",
              " 'handle',\n",
              " 'polled',\n",
              " 'drink',\n",
              " 'sets',\n",
              " 'sidestep',\n",
              " 'fare',\n",
              " 'letting',\n",
              " 'entering',\n",
              " 'ban',\n",
              " 'visiting',\n",
              " 'endorsed',\n",
              " 'balked',\n",
              " 'compensate',\n",
              " 'terminated',\n",
              " 'modify',\n",
              " 'operated',\n",
              " 'entitles',\n",
              " 'romanticized',\n",
              " 'spends',\n",
              " 'condemned',\n",
              " 'competing',\n",
              " 'returning',\n",
              " 'murdered',\n",
              " 'load',\n",
              " 'lives',\n",
              " 'recommend',\n",
              " 'fighting',\n",
              " 'fills',\n",
              " 'charges',\n",
              " 'exist',\n",
              " 'Stung',\n",
              " 'banning',\n",
              " 'admitted',\n",
              " 'talks',\n",
              " 'launch',\n",
              " 'attracted',\n",
              " 'featured',\n",
              " 'devote',\n",
              " 'featuring',\n",
              " 'suing',\n",
              " 'shrinks',\n",
              " 'tripled',\n",
              " 'pumping',\n",
              " 'contributing',\n",
              " 'spur',\n",
              " 'concentrated',\n",
              " 'export',\n",
              " 'pull',\n",
              " 'approach',\n",
              " 'step',\n",
              " 'regard',\n",
              " 'breach',\n",
              " 'pleaded',\n",
              " 'inspired',\n",
              " 'defended',\n",
              " 'treated',\n",
              " 'casts',\n",
              " 'violated',\n",
              " 'enforce',\n",
              " 'surfaced',\n",
              " 'concentrate',\n",
              " 'stressing',\n",
              " 'suffered',\n",
              " 'loved',\n",
              " 'advised',\n",
              " 'studying',\n",
              " 'pushing',\n",
              " 'earn',\n",
              " 'save',\n",
              " 'interviewed',\n",
              " 'explain',\n",
              " 'gauge',\n",
              " 'measured',\n",
              " 'deny',\n",
              " 'hampered',\n",
              " 'fill',\n",
              " 'nominated',\n",
              " 'assured',\n",
              " 'finding',\n",
              " 'conducting',\n",
              " 'tracks',\n",
              " 'merge',\n",
              " 'merged',\n",
              " 'banking',\n",
              " 'achieve',\n",
              " 'acquiring',\n",
              " 'post',\n",
              " 'wish',\n",
              " 'retained',\n",
              " 'spark',\n",
              " 'chaired',\n",
              " 'deal',\n",
              " 'submit',\n",
              " 'sending',\n",
              " 'test',\n",
              " 'relegated',\n",
              " 'alleging',\n",
              " 'mounted',\n",
              " 'harass',\n",
              " 'crossing',\n",
              " 'involves',\n",
              " 'assist',\n",
              " 'killing',\n",
              " 'served',\n",
              " 'understood',\n",
              " 'touch',\n",
              " 'Asked',\n",
              " 'design',\n",
              " 'retaining',\n",
              " 'belonging',\n",
              " 'compiled',\n",
              " 'Guaranteed',\n",
              " 'positioned',\n",
              " 'plunging',\n",
              " 'locked',\n",
              " 'starts',\n",
              " 'waiting',\n",
              " 'rolled',\n",
              " 'lock',\n",
              " 'drifted',\n",
              " 'measures',\n",
              " 'Estimated',\n",
              " ...]"
            ]
          },
          "metadata": {
            "tags": []
          },
          "execution_count": 76
        }
      ]
    },
    {
      "cell_type": "code",
      "metadata": {
        "id": "5XOipmsW8lqZ"
      },
      "source": [
        ""
      ],
      "execution_count": null,
      "outputs": []
    }
  ]
}