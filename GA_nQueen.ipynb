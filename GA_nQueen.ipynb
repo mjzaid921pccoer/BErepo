{
  "nbformat": 4,
  "nbformat_minor": 0,
  "metadata": {
    "colab": {
      "name": "GA_nQueen.ipynb",
      "provenance": []
    },
    "kernelspec": {
      "name": "python3",
      "display_name": "Python 3"
    },
    "language_info": {
      "name": "python"
    }
  },
  "cells": [
    {
      "cell_type": "markdown",
      "metadata": {
        "id": "tFFA2nm7udog"
      },
      "source": [
        "Genetic Algorithms(John Holland) - based on the concepts of natural selection and genetics. GAs are a subset of a much larger branch of computation known as Evolutionary Computation.\n",
        "\n",
        "\n",
        "We have a pool or a population of possible solutions to the given problem\n",
        "\n",
        "They undergo recombination and mutation (like in natural genetics), producing new children, and the process is repeated over various generations\n",
        "\n",
        "Each individual candidate solution  is assigned a fitness value and the fitter individuals are given a higher chance to mate and yield more “fitter” individuals (Darwinian Theory of “Survival of the Fittest”).\n",
        "\n",
        "\n",
        "We keep “evolving” better individuals or solutions over generations, till we reach a stopping criterion\n",
        "\n",
        "\n",
        "\n",
        "\n",
        "\n",
        "**Population** − It is a subset of all the possible (encoded) solutions to the given problem. The population for a GA is analogous to the population for human beings except that instead of human beings, we have Candidate Solutions representing human beings.\n",
        "\n",
        "\n",
        "**Chromosomes** − A chromosome is one such solution to the given problem.\n",
        "\n",
        "**Gene** − A gene is one element position of a chromosome.\n",
        "\n",
        "**Allele** − It is the value a gene takes for a particular chromosome\n",
        "\n",
        "\n",
        "\n",
        "![alt text](https://www.tutorialspoint.com/genetic_algorithms/images/basic_structure.jpg \"Genetic Algorithm flow\")\n",
        "\n",
        "\n",
        "*   start with an initial population\n",
        "*   select parents for mating\n",
        "*   generate new off-springs (crossover and mutation)\n",
        "\n",
        "\n",
        "\n",
        "```\n",
        "GA()\n",
        "   initialize population\n",
        "   find fitness of population\n",
        "   \n",
        "   while (termination criteria is reached) do\n",
        "      parent selection\n",
        "      crossover with probability pc\n",
        "      mutation with probability pm\n",
        "      decode and fitness calculation\n",
        "      survivor selection\n",
        "      find best\n",
        "   return best\n",
        "```\n",
        "\n",
        "\n",
        "\n",
        "\n",
        "\n"
      ]
    },
    {
      "cell_type": "code",
      "metadata": {
        "colab": {
          "base_uri": "https://localhost:8080/"
        },
        "id": "WM3gGNVv6HfL",
        "outputId": "f1d57c3b-1ae9-47cf-edbb-55712c15441a"
      },
      "source": [
        "%%writefile genetic.py\n",
        "#All Imports\n",
        "import random\n",
        "import statistics\n",
        "import sys\n",
        "import time\n",
        "\n",
        "class Chromosome:\n",
        "    def __init__(self, genes, fitness):\n",
        "        self.Genes = genes\n",
        "        self.Fitness = fitness\n",
        "\n",
        "def _mutate(parent, geneSet, get_fitness):\n",
        "    childGenes = parent.Genes[:]\n",
        "    index = random.randrange(0, len(parent.Genes))\n",
        "    newGene, alternate = random.sample(geneSet, 2)\n",
        "    childGenes[index] = alternate if newGene == childGenes[index] else newGene\n",
        "    fitness = get_fitness(childGenes)\n",
        "    return Chromosome(childGenes, fitness)\n",
        "\n",
        "def _generate_parent(length, geneSet, get_fitness):\n",
        "    genes = []\n",
        "    while len(genes) < length:\n",
        "        sampleSize = min(length - len(genes), len(geneSet))\n",
        "        genes.extend(random.sample(geneSet, sampleSize))\n",
        "    fitness = get_fitness(genes)\n",
        "    return Chromosome(genes, fitness)\n",
        "\n",
        "def _get_improvement(new_child, generate_parent):\n",
        "    bestParent = generate_parent()\n",
        "    yield bestParent\n",
        "    while True:\n",
        "        child = new_child(bestParent)\n",
        "        if bestParent.Fitness > child.Fitness:\n",
        "            continue\n",
        "        if not child.Fitness > bestParent.Fitness:\n",
        "            bestParent = child\n",
        "            continue\n",
        "        yield child\n",
        "        bestParent = child\n",
        "\n",
        "def get_best(get_fitness, targetLen, optimalFitness, geneSet, display):\n",
        "    # get_fitness function\n",
        "    # targetLen - 16 # size*2\n",
        "    # optimalFitness - 0\n",
        "    # geneSet - [0, 1, 2, 3, 4, 5, 6, 7]\n",
        "    # display - function\n",
        "    #random.seed()\n",
        "\n",
        "    def fnMutate(parent):\n",
        "        #print(\"parent\",parent)\n",
        "        return _mutate(parent, geneSet, get_fitness)\n",
        "\n",
        "    def fnGenerateParent():\n",
        "        return _generate_parent(targetLen, geneSet, get_fitness)\n",
        "\n",
        "    for improvement in _get_improvement(fnMutate, fnGenerateParent):\n",
        "        display(improvement)\n",
        "        if not optimalFitness > improvement.Fitness:\n",
        "            return improvement"
      ],
      "execution_count": null,
      "outputs": [
        {
          "output_type": "stream",
          "text": [
            "Overwriting genetic.py\n"
          ],
          "name": "stdout"
        }
      ]
    },
    {
      "cell_type": "code",
      "metadata": {
        "colab": {
          "base_uri": "https://localhost:8080/"
        },
        "id": "Y8Xc8TC96zig",
        "outputId": "6cb138d7-3244-48ae-f7dd-e935d111dd70"
      },
      "source": [
        "%%writefile ga_nqueen.py\n",
        "\n",
        "import datetime\n",
        "import unittest\n",
        "\n",
        "import genetic\n",
        "\n",
        "class Fitness:\n",
        "    def __init__(self, total):\n",
        "        self.Total = total\n",
        "\n",
        "    def __gt__(self, other):\n",
        "        return self.Total < other.Total\n",
        "\n",
        "    def __str__(self):\n",
        "        return \"{}\".format(self.Total)\n",
        "\n",
        "class Board:\n",
        "    def __init__(self, genes, size):\n",
        "        board = [['.'] * size for _ in range(size)]\n",
        "        for index in range(0, len(genes), 2):\n",
        "            row = genes[index]\n",
        "            column = genes[index + 1]\n",
        "            board[column][row] = 'Q'\n",
        "        self._board = board\n",
        "\n",
        "    def get(self, row, column):\n",
        "        return self._board[column][row]\n",
        "\n",
        "    def print(self):\n",
        "        # 0,0 prints in bottom left corner\n",
        "        for i in reversed(range(len(self._board))):\n",
        "            print(' '.join(self._board[i]))\n",
        "\n",
        "\n",
        "def display(candidate, startTime, size):\n",
        "    timeDiff = datetime.datetime.now() - startTime\n",
        "    board = Board(candidate.Genes, size)\n",
        "    board.print()\n",
        "    print(\"{}\\t- {}\\t{}\".format(\n",
        "        ' '.join(map(str, candidate.Genes)),\n",
        "        candidate.Fitness,\n",
        "        timeDiff))\n",
        "    \n",
        "\n",
        "def get_fitness(genes, size):\n",
        "    board = Board(genes, size)\n",
        "    rowsWithQueens = set()\n",
        "    colsWithQueens = set()\n",
        "    northEastDiagonalsWithQueens = set()\n",
        "    southEastDiagonalsWithQueens = set()\n",
        "    for row in range(size):\n",
        "        for col in range(size):\n",
        "            if board.get(row, col) == 'Q':\n",
        "                rowsWithQueens.add(row)\n",
        "                colsWithQueens.add(col)\n",
        "                northEastDiagonalsWithQueens.add(row + col)\n",
        "                southEastDiagonalsWithQueens.add(size - 1 - row + col)\n",
        "    total = size - len(rowsWithQueens) \\\n",
        "            + size - len(colsWithQueens) \\\n",
        "            + size - len(northEastDiagonalsWithQueens) \\\n",
        "            + size - len(southEastDiagonalsWithQueens)\n",
        "    #print(size,len(rowsWithQueens),len(colsWithQueens),len(northEastDiagonalsWithQueens),len(southEastDiagonalsWithQueens),total,sep=\" : \")\n",
        "    return Fitness(total)\n",
        "\n",
        "#Debuging\n",
        "db=\"debugging \"\n",
        "\n",
        "class EightQueensTests(unittest.TestCase):\n",
        "    def test(self, size=8):\n",
        "        def fnDisplay(candidate_chromosome):\n",
        "            display(candidate_chromosome, startTime, size)\n",
        "            #print(candidate_chromosome.Genes,candidate_chromosome.Fitness)\n",
        "\n",
        "        def fnGetFitness(genes):\n",
        "            #print(genes)\n",
        "            return get_fitness(genes, size)\n",
        "\n",
        "\n",
        "        geneset = [i for i in range(size)]\n",
        "        # print(db,1,geneset)\n",
        "\n",
        "        startTime = datetime.datetime.now()        \n",
        "\n",
        "        optimalFitness = Fitness(0)\n",
        "        # print(db,2,optimalFitness)\n",
        "\n",
        "        best_chromosome= genetic.get_best(fnGetFitness, 2 * size, optimalFitness, geneset, fnDisplay)\n",
        "        #best - Chromosome object\n",
        "        # print(db,3,best_chromosome,best_chromosome.Genes,best_chromosome.Fitness)\n",
        "\n",
        "        self.assertTrue(not optimalFitness > best_chromosome.Fitness)\n",
        "\n",
        "    # def test_benchmark(self):\n",
        "    #     genetic.Benchmark.run(lambda: self.test(20))\n",
        "\n",
        "\n",
        "\n",
        "if __name__ == '__main__':\n",
        "    unittest.main()"
      ],
      "execution_count": null,
      "outputs": [
        {
          "output_type": "stream",
          "text": [
            "Overwriting ga_nqueen.py\n"
          ],
          "name": "stdout"
        }
      ]
    },
    {
      "cell_type": "code",
      "metadata": {
        "colab": {
          "base_uri": "https://localhost:8080/"
        },
        "id": "iPRzeSTJ7J3F",
        "outputId": "6c6f54f5-6dbd-4487-fe2f-61abfed19ad3"
      },
      "source": [
        "%%shell\n",
        "python ga_nqueen.py"
      ],
      "execution_count": null,
      "outputs": [
        {
          "output_type": "stream",
          "text": [
            ". Q . . . . . .\n",
            "Q Q . . . . . .\n",
            ". . . . . . . .\n",
            ". . . . . Q . .\n",
            "Q . Q . . . . .\n",
            ". . . . . . . Q\n",
            ". . . . . . . .\n",
            ". . . . . . . .\n",
            "2 3 1 7 5 4 0 6 1 6 5 4 0 3 7 2\t- 10\t0:00:00.000132\n",
            ". . . . . . . Q\n",
            "Q Q . . . . . .\n",
            ". . . . . . . .\n",
            ". . . . . Q . .\n",
            "Q . Q . . . . .\n",
            ". . . . . . . Q\n",
            ". . . . . . . .\n",
            ". . . . . . . .\n",
            "2 3 7 7 5 4 0 6 1 6 5 4 0 3 7 2\t- 9\t0:00:00.000316\n",
            ". . . . . . . Q\n",
            "Q Q . . . . . .\n",
            ". . . . . . . .\n",
            "Q . . . . Q . .\n",
            "Q . Q . . . . .\n",
            ". . . . . . . Q\n",
            ". . . . . . . .\n",
            ". . . . . . . .\n",
            "2 3 7 7 5 4 0 6 1 6 0 4 0 3 7 2\t- 7\t0:00:00.000500\n",
            ". . . . . . . Q\n",
            "Q . . . . . . .\n",
            ". . . . . . . .\n",
            ". . . . . Q . Q\n",
            "Q . Q . . . . .\n",
            ". . . . . . . Q\n",
            ". . . . . . . .\n",
            ". . . . Q . . .\n",
            "2 3 7 7 5 4 0 6 4 0 7 4 0 3 7 2\t- 6\t0:00:00.000718\n",
            ". . . . . . . Q\n",
            "Q . . . . . . .\n",
            ". . . . . . . .\n",
            ". . . . . . Q Q\n",
            "Q . Q . . . . .\n",
            ". . . . . Q . .\n",
            ". . . . . . . .\n",
            ". . . . Q . . .\n",
            "2 3 7 7 6 4 0 6 4 0 7 4 0 3 5 2\t- 5\t0:00:00.001002\n",
            ". . . . . . . Q\n",
            ". . Q . . . . .\n",
            ". . . . . . . .\n",
            ". . . Q . Q . .\n",
            "Q . . . . . . .\n",
            ". . . Q . . . .\n",
            ". . . . . . Q .\n",
            ". . . . Q . . .\n",
            "5 4 7 7 6 1 2 6 4 0 3 4 0 3 3 2\t- 4\t0:00:00.001985\n",
            ". . . . . . . Q\n",
            ". . Q . . . . .\n",
            ". . . . . . . .\n",
            ". . . Q . Q . .\n",
            "Q . . . . . . .\n",
            ". . . . Q . . .\n",
            ". . . . . . Q .\n",
            ". . . . Q . . .\n",
            "5 4 7 7 6 1 2 6 4 0 3 4 0 3 4 2\t- 3\t0:00:00.002114\n",
            ". . . . . . . Q\n",
            ". . Q . . Q . .\n",
            "Q . . . . . . .\n",
            ". . . . . Q . .\n",
            ". . . . . . . .\n",
            ". . . . Q . . .\n",
            ". . . . . . Q .\n",
            ". . . Q . . . .\n",
            "5 4 7 7 6 1 2 6 3 0 5 6 0 5 4 2\t- 2\t0:00:00.003638\n",
            ". . . . . . . .\n",
            ". Q . . . . . .\n",
            ". . . . . Q Q .\n",
            "Q . . . . . . .\n",
            ". . Q . . . . .\n",
            ". . . . Q . . .\n",
            ". . . . . . . Q\n",
            ". . . Q . . . .\n",
            "5 5 7 1 6 5 2 3 3 0 1 6 0 4 4 2\t- 1\t0:00:00.011779\n",
            ". . . . . Q . .\n",
            ". Q . . . . . .\n",
            ". . . . . . Q .\n",
            "Q . . . . . . .\n",
            ". . Q . . . . .\n",
            ". . . . Q . . .\n",
            ". . . . . . . Q\n",
            ". . . Q . . . .\n",
            "5 7 7 1 6 5 2 3 3 0 1 6 0 4 4 2\t- 0\t0:00:00.012761\n",
            ".\n",
            "----------------------------------------------------------------------\n",
            "Ran 1 test in 0.013s\n",
            "\n",
            "OK\n"
          ],
          "name": "stdout"
        },
        {
          "output_type": "execute_result",
          "data": {
            "text/plain": [
              ""
            ]
          },
          "metadata": {
            "tags": []
          },
          "execution_count": 8
        }
      ]
    },
    {
      "cell_type": "code",
      "metadata": {
        "id": "lLNGGPys7Q4W"
      },
      "source": [
        ""
      ],
      "execution_count": null,
      "outputs": []
    },
    {
      "cell_type": "code",
      "metadata": {
        "id": "VStd6SB9ypMa"
      },
      "source": [
        ""
      ],
      "execution_count": null,
      "outputs": []
    },
    {
      "cell_type": "code",
      "metadata": {
        "id": "A33jsZ4AypJg"
      },
      "source": [
        ""
      ],
      "execution_count": null,
      "outputs": []
    },
    {
      "cell_type": "code",
      "metadata": {
        "id": "BK6F8X5wypEN"
      },
      "source": [
        ""
      ],
      "execution_count": null,
      "outputs": []
    }
  ]
}